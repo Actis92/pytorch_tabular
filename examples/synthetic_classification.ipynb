{
 "metadata": {
  "language_info": {
   "codemirror_mode": {
    "name": "ipython",
    "version": 3
   },
   "file_extension": ".py",
   "mimetype": "text/x-python",
   "name": "python",
   "nbconvert_exporter": "python",
   "pygments_lexer": "ipython3",
   "version": "3.8.6-final"
  },
  "orig_nbformat": 2,
  "kernelspec": {
   "name": "python3",
   "display_name": "Python 3.8.6 64-bit ('df_encoder': conda)",
   "metadata": {
    "interpreter": {
     "hash": "3ce308830d0ee1a4fcf1f2959dabb2d1597bda1183559f00b934a3d25a80c282"
    }
   }
  }
 },
 "nbformat": 4,
 "nbformat_minor": 2,
 "cells": [
  {
   "cell_type": "code",
   "execution_count": 1,
   "metadata": {},
   "outputs": [],
   "source": [
    "from sklearn.datasets import make_classification\n",
    "from sklearn.model_selection import train_test_split\n",
    "import random\n",
    "import numpy as np\n",
    "import pandas as pd\n",
    "import lightgbm as lgb\n",
    "from sklearn.metrics import accuracy_score, f1_score\n",
    "import os\n",
    "os.chdir(\"..\")"
   ]
  },
  {
   "cell_type": "code",
   "execution_count": 2,
   "metadata": {},
   "outputs": [],
   "source": [
    "def make_mixed_classification(n_samples, n_features, n_categories):\n",
    "    X,y = make_classification(n_samples=n_samples, n_features=n_features, random_state=42)\n",
    "    cat_cols = random.choices(list(range(X.shape[-1])),k=n_categories)\n",
    "    num_cols = [i for i in range(X.shape[-1]) if i not in cat_cols]\n",
    "    for col in cat_cols:\n",
    "        X[:,col] = pd.qcut(X[:,col], q=4).codes.astype(int)\n",
    "    col_names = [] \n",
    "    num_col_names=[]\n",
    "    cat_col_names=[]\n",
    "    for i in range(X.shape[-1]):\n",
    "        if i in cat_cols:\n",
    "            col_names.append(f\"cat_col_{i}\")\n",
    "            cat_col_names.append(f\"cat_col_{i}\")\n",
    "        if i in num_cols:\n",
    "            col_names.append(f\"num_col_{i}\")\n",
    "            num_col_names.append(f\"num_col_{i}\")\n",
    "    X = pd.DataFrame(X, columns=col_names)\n",
    "    y = pd.Series(y, name=\"target\")\n",
    "    data = X.join(y)\n",
    "    return data, cat_col_names, num_col_names"
   ]
  },
  {
   "cell_type": "code",
   "execution_count": 3,
   "metadata": {},
   "outputs": [],
   "source": [
    "data, cat_col_names, num_col_names = make_mixed_classification(n_samples=10000, n_features=20, n_categories=4)\n",
    "train, test = train_test_split(data, random_state=42)\n",
    "train, val = train_test_split(train, random_state=42)"
   ]
  },
  {
   "source": [
    "## Baseline"
   ],
   "cell_type": "markdown",
   "metadata": {}
  },
  {
   "cell_type": "code",
   "execution_count": 4,
   "metadata": {},
   "outputs": [
    {
     "output_type": "execute_result",
     "data": {
      "text/plain": [
       "LGBMClassifier(random_state=42)"
      ]
     },
     "metadata": {},
     "execution_count": 4
    }
   ],
   "source": [
    "clf = lgb.LGBMClassifier(random_state=42)\n",
    "clf.fit(train.drop(columns='target'), train['target'], categorical_feature=cat_col_names)"
   ]
  },
  {
   "cell_type": "code",
   "execution_count": 5,
   "metadata": {},
   "outputs": [
    {
     "output_type": "stream",
     "name": "stdout",
     "text": [
      "Val Acc: 0.936 | Val F1: 0.9363057324840763\n"
     ]
    }
   ],
   "source": [
    "val_pred = clf.predict(val.drop(columns='target'))\n",
    "val_acc = accuracy_score(val['target'].values.ravel(), val_pred)\n",
    "val_f1 = f1_score(val['target'].values.ravel(), val_pred)\n",
    "print(f\"Val Acc: {val_acc} | Val F1: {val_f1}\")"
   ]
  },
  {
   "cell_type": "code",
   "execution_count": 6,
   "metadata": {},
   "outputs": [
    {
     "output_type": "stream",
     "name": "stdout",
     "text": [
      "Test Acc: 0.9356 | Test F1: 0.936986301369863\n"
     ]
    }
   ],
   "source": [
    "test_pred = clf.predict(test.drop(columns='target'))\n",
    "test_acc = accuracy_score(test['target'].values.ravel(), test_pred)\n",
    "test_f1 = f1_score(test['target'].values.ravel(), test_pred)\n",
    "print(f\"Test Acc: {test_acc} | Test F1: {test_f1}\")"
   ]
  },
  {
   "cell_type": "code",
   "execution_count": null,
   "metadata": {},
   "outputs": [],
   "source": []
  },
  {
   "cell_type": "code",
   "execution_count": 7,
   "metadata": {},
   "outputs": [],
   "source": [
    "from pytorch_tabular import TabularModel, CategoryEmbeddingModelConfig, NodeConfig, TabNetModelConfig\n",
    "from pytorch_tabular.config import DataConfig, OptimizerConfig, TrainerConfig, ExperimentConfig\n",
    "from pytorch_tabular.category_encoders import CategoricalEmbeddingTransformer"
   ]
  },
  {
   "source": [
    "## Category Embedding Model"
   ],
   "cell_type": "markdown",
   "metadata": {}
  },
  {
   "cell_type": "code",
   "execution_count": 8,
   "metadata": {},
   "outputs": [],
   "source": [
    "data_config = DataConfig(\n",
    "    target=['target'],\n",
    "    continuous_cols=num_col_names,\n",
    "    categorical_cols=cat_col_names,\n",
    "    continuous_feature_transform=None,#\"yeo-johnson\",\n",
    "    normalize_continuous_features=True\n",
    ")\n",
    "trainer_config = TrainerConfig(\n",
    "    auto_lr_find=False,\n",
    "    batch_size=1024,\n",
    "    max_epochs=1000,\n",
    "    gpus=1,\n",
    "    # track_grad_norm=2,\n",
    "    gradient_clip_val=10,\n",
    ")\n",
    "# experiment_config = ExperimentConfig(project_name=\"Tabular_test\", log_logits=True)\n",
    "optimizer_config = OptimizerConfig()\n",
    "\n",
    "model_config = CategoryEmbeddingModelConfig(\n",
    "    task=\"classification\",\n",
    "    layers=\"128-64-16\", \n",
    "    activation=\"LeakyReLU\",\n",
    "    learning_rate = 1e-3\n",
    "    # metrics=[\"auroc\",\"\"]\n",
    ")\n",
    "tabular_model = TabularModel(\n",
    "    data_config=data_config,\n",
    "    model_config=model_config,\n",
    "    optimizer_config=optimizer_config,\n",
    "    trainer_config=trainer_config,\n",
    ")"
   ]
  },
  {
   "cell_type": "code",
   "execution_count": 9,
   "metadata": {
    "tags": []
   },
   "outputs": [
    {
     "output_type": "stream",
     "name": "stderr",
     "text": [
      "GPU available: True, used: False\n",
      "GPU available: True, used: False\n",
      "TPU available: False, using: 0 TPU cores\n",
      "TPU available: False, using: 0 TPU cores\n",
      "GPU available: True, used: True\n",
      "GPU available: True, used: True\n",
      "TPU available: False, using: 0 TPU cores\n",
      "TPU available: False, using: 0 TPU cores\n",
      "LOCAL_RANK: 0 - CUDA_VISIBLE_DEVICES: [0]\n",
      "LOCAL_RANK: 0 - CUDA_VISIBLE_DEVICES: [0]\n",
      "\n",
      "  | Name                   | Type             | Params\n",
      "------------------------------------------------------------\n",
      "0 | embedding_layers       | ModuleList       | 45    \n",
      "1 | normalizing_batch_norm | BatchNorm1d      | 34    \n",
      "2 | linear_layers          | Sequential       | 12.8 K\n",
      "3 | loss                   | CrossEntropyLoss | 0     \n",
      "\n",
      "  | Name                   | Type             | Params\n",
      "------------------------------------------------------------\n",
      "0 | embedding_layers       | ModuleList       | 45    \n",
      "1 | normalizing_batch_norm | BatchNorm1d      | 34    \n",
      "2 | linear_layers          | Sequential       | 12.8 K\n",
      "3 | loss                   | CrossEntropyLoss | 0     \n",
      "Epoch 0:  71%|███████▏  | 5/7 [00:00<00:00, 33.65it/s, loss=0.981, train_loss=0.979]\n",
      "Epoch 0: 100%|██████████| 7/7 [00:00<00:00, 36.75it/s, loss=0.981, train_loss=0.979, valid_loss=0.704, valid_accuracy=0.495]\n",
      "Epoch 1:  71%|███████▏  | 5/7 [00:00<00:00, 33.65it/s, loss=0.912, train_loss=0.781, valid_loss=0.704, valid_accuracy=0.495, train_accuracy=0.478]\n",
      "Epoch 1: 100%|██████████| 7/7 [00:00<00:00, 36.75it/s, loss=0.912, train_loss=0.781, valid_loss=0.689, valid_accuracy=0.532, train_accuracy=0.478]\n",
      "Epoch 2:  71%|███████▏  | 5/7 [00:00<00:00, 30.95it/s, loss=0.870, train_loss=0.77, valid_loss=0.689, valid_accuracy=0.532, train_accuracy=0.492] \n",
      "Epoch 2: 100%|██████████| 7/7 [00:00<00:00, 34.07it/s, loss=0.870, train_loss=0.77, valid_loss=0.681, valid_accuracy=0.557, train_accuracy=0.492]\n",
      "Epoch 3:  71%|███████▏  | 5/7 [00:00<00:00, 32.77it/s, loss=0.840, train_loss=0.749, valid_loss=0.681, valid_accuracy=0.557, train_accuracy=0.496]\n",
      "Epoch 3: 100%|██████████| 7/7 [00:00<00:00, 35.81it/s, loss=0.840, train_loss=0.749, valid_loss=0.677, valid_accuracy=0.575, train_accuracy=0.496]\n",
      "Epoch 4:  71%|███████▏  | 5/7 [00:00<00:00, 32.34it/s, loss=0.773, train_loss=0.72, valid_loss=0.677, valid_accuracy=0.575, train_accuracy=0.501] \n",
      "Epoch 4: 100%|██████████| 7/7 [00:00<00:00, 35.63it/s, loss=0.773, train_loss=0.72, valid_loss=0.676, valid_accuracy=0.596, train_accuracy=0.501]\n",
      "Epoch 5:  71%|███████▏  | 5/7 [00:00<00:00, 32.98it/s, loss=0.739, train_loss=0.691, valid_loss=0.676, valid_accuracy=0.596, train_accuracy=0.515]\n",
      "Epoch 5: 100%|██████████| 7/7 [00:00<00:00, 37.53it/s, loss=0.739, train_loss=0.691, valid_loss=0.676, valid_accuracy=0.621, train_accuracy=0.515]\n",
      "Epoch 6:  71%|███████▏  | 5/7 [00:00<00:00, 32.34it/s, loss=0.716, train_loss=0.679, valid_loss=0.676, valid_accuracy=0.621, train_accuracy=0.51]\n",
      "Epoch 6: 100%|██████████| 7/7 [00:00<00:00, 35.09it/s, loss=0.716, train_loss=0.679, valid_loss=0.676, valid_accuracy=0.644, train_accuracy=0.51]\n",
      "Epoch 7:  71%|███████▏  | 5/7 [00:00<00:00, 31.33it/s, loss=0.702, train_loss=0.682, valid_loss=0.676, valid_accuracy=0.644, train_accuracy=0.532]\n",
      "Epoch 7: 100%|██████████| 7/7 [00:00<00:00, 34.75it/s, loss=0.702, train_loss=0.682, valid_loss=0.674, valid_accuracy=0.654, train_accuracy=0.532]\n",
      "Epoch 8:  71%|███████▏  | 5/7 [00:00<00:00, 32.98it/s, loss=0.694, train_loss=0.685, valid_loss=0.674, valid_accuracy=0.654, train_accuracy=0.521]\n",
      "Epoch 8: 100%|██████████| 7/7 [00:00<00:00, 35.27it/s, loss=0.694, train_loss=0.685, valid_loss=0.672, valid_accuracy=0.653, train_accuracy=0.521]\n",
      "Epoch 9:  71%|███████▏  | 5/7 [00:00<00:00, 32.98it/s, loss=0.688, train_loss=0.675, valid_loss=0.672, valid_accuracy=0.653, train_accuracy=0.537]\n",
      "Epoch 9: 100%|██████████| 7/7 [00:00<00:00, 35.27it/s, loss=0.688, train_loss=0.675, valid_loss=0.669, valid_accuracy=0.671, train_accuracy=0.537]\n",
      "Epoch 10:  71%|███████▏  | 5/7 [00:00<00:00, 30.95it/s, loss=0.683, train_loss=0.69, valid_loss=0.669, valid_accuracy=0.671, train_accuracy=0.54]\n",
      "Epoch 10: 100%|██████████| 7/7 [00:00<00:00, 33.91it/s, loss=0.683, train_loss=0.69, valid_loss=0.663, valid_accuracy=0.709, train_accuracy=0.54]\n",
      "Epoch 11:  71%|███████▏  | 5/7 [00:00<00:00, 29.15it/s, loss=0.680, train_loss=0.669, valid_loss=0.663, valid_accuracy=0.709, train_accuracy=0.54]\n",
      "Epoch 11: 100%|██████████| 7/7 [00:00<00:00, 32.49it/s, loss=0.680, train_loss=0.669, valid_loss=0.656, valid_accuracy=0.746, train_accuracy=0.54]\n",
      "Epoch 12:  71%|███████▏  | 5/7 [00:00<00:00, 21.80it/s, loss=0.678, train_loss=0.682, valid_loss=0.656, valid_accuracy=0.746, train_accuracy=0.544]\n",
      "Epoch 12: 100%|██████████| 7/7 [00:00<00:00, 25.25it/s, loss=0.678, train_loss=0.682, valid_loss=0.647, valid_accuracy=0.783, train_accuracy=0.544]\n",
      "Epoch 13:  71%|███████▏  | 5/7 [00:00<00:00, 32.77it/s, loss=0.673, train_loss=0.66, valid_loss=0.647, valid_accuracy=0.783, train_accuracy=0.543] \n",
      "Epoch 13: 100%|██████████| 7/7 [00:00<00:00, 33.42it/s, loss=0.673, train_loss=0.66, valid_loss=0.637, valid_accuracy=0.811, train_accuracy=0.543]\n",
      "Epoch 14:  71%|███████▏  | 5/7 [00:00<00:00, 26.11it/s, loss=0.668, train_loss=0.669, valid_loss=0.637, valid_accuracy=0.811, train_accuracy=0.553]\n",
      "Epoch 14: 100%|██████████| 7/7 [00:00<00:00, 26.59it/s, loss=0.668, train_loss=0.669, valid_loss=0.622, valid_accuracy=0.826, train_accuracy=0.553]\n",
      "Epoch 15:  71%|███████▏  | 5/7 [00:00<00:00, 30.95it/s, loss=0.662, train_loss=0.65, valid_loss=0.622, valid_accuracy=0.826, train_accuracy=0.558] \n",
      "Epoch 15: 100%|██████████| 7/7 [00:00<00:00, 32.80it/s, loss=0.662, train_loss=0.65, valid_loss=0.607, valid_accuracy=0.833, train_accuracy=0.558]\n",
      "Epoch 16:  71%|███████▏  | 5/7 [00:00<00:00, 33.42it/s, loss=0.656, train_loss=0.637, valid_loss=0.607, valid_accuracy=0.833, train_accuracy=0.562]\n",
      "Epoch 16: 100%|██████████| 7/7 [00:00<00:00, 35.63it/s, loss=0.656, train_loss=0.637, valid_loss=0.59, valid_accuracy=0.84, train_accuracy=0.562]  \n",
      "Epoch 17:  71%|███████▏  | 5/7 [00:00<00:00, 32.55it/s, loss=0.651, train_loss=0.647, valid_loss=0.59, valid_accuracy=0.84, train_accuracy=0.56]\n",
      "Epoch 17: 100%|██████████| 7/7 [00:00<00:00, 34.41it/s, loss=0.651, train_loss=0.647, valid_loss=0.573, valid_accuracy=0.852, train_accuracy=0.56]\n",
      "Epoch 18:  71%|███████▏  | 5/7 [00:00<00:00, 31.93it/s, loss=0.646, train_loss=0.613, valid_loss=0.573, valid_accuracy=0.852, train_accuracy=0.57]\n",
      "Epoch 18: 100%|██████████| 7/7 [00:00<00:00, 35.09it/s, loss=0.646, train_loss=0.613, valid_loss=0.559, valid_accuracy=0.859, train_accuracy=0.57]\n",
      "Epoch 19:  71%|███████▏  | 5/7 [00:00<00:00, 32.77it/s, loss=0.640, train_loss=0.626, valid_loss=0.559, valid_accuracy=0.859, train_accuracy=0.563]\n",
      "Epoch 19: 100%|██████████| 7/7 [00:00<00:00, 35.27it/s, loss=0.640, train_loss=0.626, valid_loss=0.545, valid_accuracy=0.86, train_accuracy=0.563] \n",
      "Epoch 20:  71%|███████▏  | 5/7 [00:00<00:00, 30.20it/s, loss=0.631, train_loss=0.589, valid_loss=0.545, valid_accuracy=0.86, train_accuracy=0.585]\n",
      "Epoch 20: 100%|██████████| 7/7 [00:00<00:00, 33.58it/s, loss=0.631, train_loss=0.589, valid_loss=0.53, valid_accuracy=0.866, train_accuracy=0.585]\n",
      "Epoch 21:  71%|███████▏  | 5/7 [00:00<00:00, 31.93it/s, loss=0.624, train_loss=0.611, valid_loss=0.53, valid_accuracy=0.866, train_accuracy=0.582]\n",
      "Epoch 21: 100%|██████████| 7/7 [00:00<00:00, 35.45it/s, loss=0.624, train_loss=0.611, valid_loss=0.515, valid_accuracy=0.869, train_accuracy=0.582]\n",
      "Epoch 22:  71%|███████▏  | 5/7 [00:00<00:00, 32.34it/s, loss=0.618, train_loss=0.608, valid_loss=0.515, valid_accuracy=0.869, train_accuracy=0.585]\n",
      "Epoch 22: 100%|██████████| 7/7 [00:00<00:00, 35.45it/s, loss=0.618, train_loss=0.608, valid_loss=0.5, valid_accuracy=0.87, train_accuracy=0.585]   \n",
      "Epoch 23:  71%|███████▏  | 5/7 [00:00<00:00, 30.20it/s, loss=0.610, train_loss=0.576, valid_loss=0.5, valid_accuracy=0.87, train_accuracy=0.596]\n",
      "Epoch 23: 100%|██████████| 7/7 [00:00<00:00, 33.58it/s, loss=0.610, train_loss=0.576, valid_loss=0.486, valid_accuracy=0.876, train_accuracy=0.596]\n",
      "Epoch 24:  71%|███████▏  | 5/7 [00:00<00:00, 32.34it/s, loss=0.606, train_loss=0.622, valid_loss=0.486, valid_accuracy=0.876, train_accuracy=0.586]\n",
      "Epoch 24: 100%|██████████| 7/7 [00:00<00:00, 35.09it/s, loss=0.606, train_loss=0.622, valid_loss=0.472, valid_accuracy=0.876, train_accuracy=0.586]\n",
      "Epoch 25:  71%|███████▏  | 5/7 [00:00<00:00, 32.34it/s, loss=0.601, train_loss=0.607, valid_loss=0.472, valid_accuracy=0.876, train_accuracy=0.602]\n",
      "Epoch 25: 100%|██████████| 7/7 [00:00<00:00, 35.27it/s, loss=0.601, train_loss=0.607, valid_loss=0.464, valid_accuracy=0.882, train_accuracy=0.602]\n",
      "Epoch 26:  71%|███████▏  | 5/7 [00:00<00:00, 32.55it/s, loss=0.594, train_loss=0.588, valid_loss=0.464, valid_accuracy=0.882, train_accuracy=0.602]\n",
      "Epoch 26: 100%|██████████| 7/7 [00:00<00:00, 35.63it/s, loss=0.594, train_loss=0.588, valid_loss=0.456, valid_accuracy=0.885, train_accuracy=0.602]\n",
      "Epoch 27:  71%|███████▏  | 5/7 [00:00<00:00, 33.20it/s, loss=0.587, train_loss=0.566, valid_loss=0.456, valid_accuracy=0.885, train_accuracy=0.613]\n",
      "Epoch 27: 100%|██████████| 7/7 [00:00<00:00, 35.99it/s, loss=0.587, train_loss=0.566, valid_loss=0.445, valid_accuracy=0.889, train_accuracy=0.613]\n",
      "Epoch 28:  71%|███████▏  | 5/7 [00:00<00:00, 33.87it/s, loss=0.581, train_loss=0.563, valid_loss=0.445, valid_accuracy=0.889, train_accuracy=0.605]\n",
      "Epoch 28: 100%|██████████| 7/7 [00:00<00:00, 36.75it/s, loss=0.581, train_loss=0.563, valid_loss=0.435, valid_accuracy=0.888, train_accuracy=0.605]\n",
      "Epoch 29:  71%|███████▏  | 5/7 [00:00<00:00, 30.95it/s, loss=0.574, train_loss=0.578, valid_loss=0.435, valid_accuracy=0.888, train_accuracy=0.61]\n",
      "Epoch 29: 100%|██████████| 7/7 [00:00<00:00, 33.74it/s, loss=0.574, train_loss=0.578, valid_loss=0.426, valid_accuracy=0.887, train_accuracy=0.61]\n",
      "Epoch 30:  71%|███████▏  | 5/7 [00:00<00:00, 33.20it/s, loss=0.565, train_loss=0.555, valid_loss=0.426, valid_accuracy=0.887, train_accuracy=0.609]\n",
      "Epoch 30: 100%|██████████| 7/7 [00:00<00:00, 36.18it/s, loss=0.565, train_loss=0.555, valid_loss=0.417, valid_accuracy=0.891, train_accuracy=0.609]\n",
      "Epoch 31:  71%|███████▏  | 5/7 [00:00<00:00, 33.65it/s, loss=0.560, train_loss=0.568, valid_loss=0.417, valid_accuracy=0.891, train_accuracy=0.627]\n",
      "Epoch 31: 100%|██████████| 7/7 [00:00<00:00, 36.18it/s, loss=0.560, train_loss=0.568, valid_loss=0.41, valid_accuracy=0.891, train_accuracy=0.627] \n",
      "Epoch 32:  71%|███████▏  | 5/7 [00:00<00:00, 32.34it/s, loss=0.554, train_loss=0.557, valid_loss=0.41, valid_accuracy=0.891, train_accuracy=0.627]\n",
      "Epoch 32: 100%|██████████| 7/7 [00:00<00:00, 35.45it/s, loss=0.554, train_loss=0.557, valid_loss=0.405, valid_accuracy=0.889, train_accuracy=0.627]\n",
      "Epoch 33:  71%|███████▏  | 5/7 [00:00<00:00, 32.98it/s, loss=0.552, train_loss=0.615, valid_loss=0.405, valid_accuracy=0.889, train_accuracy=0.639]\n",
      "Epoch 33: 100%|██████████| 7/7 [00:00<00:00, 36.18it/s, loss=0.552, train_loss=0.615, valid_loss=0.402, valid_accuracy=0.891, train_accuracy=0.639]\n",
      "Epoch 34:  71%|███████▏  | 5/7 [00:00<00:00, 30.57it/s, loss=0.553, train_loss=0.573, valid_loss=0.402, valid_accuracy=0.891, train_accuracy=0.621]\n",
      "Epoch 34: 100%|██████████| 7/7 [00:00<00:00, 34.92it/s, loss=0.553, train_loss=0.573, valid_loss=0.406, valid_accuracy=0.892, train_accuracy=0.621]\n",
      "Epoch 35:  71%|███████▏  | 5/7 [00:00<00:00, 32.34it/s, loss=0.551, train_loss=0.535, valid_loss=0.406, valid_accuracy=0.892, train_accuracy=0.621]\n",
      "Epoch 35: 100%|██████████| 7/7 [00:00<00:00, 36.94it/s, loss=0.551, train_loss=0.535, valid_loss=0.405, valid_accuracy=0.892, train_accuracy=0.621]\n",
      "Epoch 36:  71%|███████▏  | 5/7 [00:00<00:00, 33.65it/s, loss=0.547, train_loss=0.538, valid_loss=0.405, valid_accuracy=0.892, train_accuracy=0.634]\n",
      "Epoch 36: 100%|██████████| 7/7 [00:00<00:00, 36.37it/s, loss=0.547, train_loss=0.538, valid_loss=0.399, valid_accuracy=0.893, train_accuracy=0.634]\n",
      "Epoch 37:  71%|███████▏  | 5/7 [00:00<00:00, 32.55it/s, loss=0.541, train_loss=0.509, valid_loss=0.399, valid_accuracy=0.893, train_accuracy=0.622]\n",
      "Epoch 37: 100%|██████████| 7/7 [00:00<00:00, 35.27it/s, loss=0.541, train_loss=0.509, valid_loss=0.392, valid_accuracy=0.893, train_accuracy=0.622]\n",
      "Epoch 38:  71%|███████▏  | 5/7 [00:00<00:00, 32.34it/s, loss=0.539, train_loss=0.552, valid_loss=0.392, valid_accuracy=0.893, train_accuracy=0.628]\n",
      "Epoch 38: 100%|██████████| 7/7 [00:00<00:00, 34.75it/s, loss=0.539, train_loss=0.552, valid_loss=0.386, valid_accuracy=0.892, train_accuracy=0.628]\n",
      "Epoch 39:  71%|███████▏  | 5/7 [00:00<00:00, 32.34it/s, loss=0.535, train_loss=0.494, valid_loss=0.386, valid_accuracy=0.892, train_accuracy=0.622]\n",
      "Epoch 39: 100%|██████████| 7/7 [00:00<00:00, 35.81it/s, loss=0.535, train_loss=0.494, valid_loss=0.385, valid_accuracy=0.893, train_accuracy=0.622]\n",
      "Epoch 40:  71%|███████▏  | 5/7 [00:00<00:00, 27.25it/s, loss=0.533, train_loss=0.534, valid_loss=0.385, valid_accuracy=0.893, train_accuracy=0.633]\n",
      "Epoch 40: 100%|██████████| 7/7 [00:00<00:00, 27.42it/s, loss=0.533, train_loss=0.534, valid_loss=0.381, valid_accuracy=0.892, train_accuracy=0.633]\n",
      "Epoch 41:  71%|███████▏  | 5/7 [00:00<00:00, 27.40it/s, loss=0.534, train_loss=0.513, valid_loss=0.381, valid_accuracy=0.892, train_accuracy=0.625]\n",
      "Epoch 41: 100%|██████████| 7/7 [00:00<00:00, 31.90it/s, loss=0.534, train_loss=0.513, valid_loss=0.382, valid_accuracy=0.892, train_accuracy=0.625]\n",
      "Epoch 42:  71%|███████▏  | 5/7 [00:00<00:00, 31.93it/s, loss=0.529, train_loss=0.524, valid_loss=0.382, valid_accuracy=0.892, train_accuracy=0.619]\n",
      "Epoch 42: 100%|██████████| 7/7 [00:00<00:00, 35.99it/s, loss=0.529, train_loss=0.524, valid_loss=0.381, valid_accuracy=0.89, train_accuracy=0.619] \n",
      "Epoch 43:  71%|███████▏  | 5/7 [00:00<00:00, 32.55it/s, loss=0.527, train_loss=0.532, valid_loss=0.381, valid_accuracy=0.89, train_accuracy=0.636]\n",
      "Epoch 43: 100%|██████████| 7/7 [00:00<00:00, 35.09it/s, loss=0.527, train_loss=0.532, valid_loss=0.375, valid_accuracy=0.889, train_accuracy=0.636]\n",
      "Epoch 44:  71%|███████▏  | 5/7 [00:00<00:00, 33.87it/s, loss=0.524, train_loss=0.547, valid_loss=0.375, valid_accuracy=0.889, train_accuracy=0.64]\n",
      "Epoch 44: 100%|██████████| 7/7 [00:00<00:00, 36.75it/s, loss=0.524, train_loss=0.547, valid_loss=0.366, valid_accuracy=0.889, train_accuracy=0.64]\n",
      "Epoch 45:  71%|███████▏  | 5/7 [00:00<00:00, 34.10it/s, loss=0.519, train_loss=0.471, valid_loss=0.366, valid_accuracy=0.889, train_accuracy=0.638]\n",
      "Epoch 45: 100%|██████████| 7/7 [00:00<00:00, 38.35it/s, loss=0.519, train_loss=0.471, valid_loss=0.367, valid_accuracy=0.892, train_accuracy=0.638]\n",
      "Epoch 46:  71%|███████▏  | 5/7 [00:00<00:00, 32.35it/s, loss=0.516, train_loss=0.489, valid_loss=0.367, valid_accuracy=0.892, train_accuracy=0.643]\n",
      "Epoch 46: 100%|██████████| 7/7 [00:00<00:00, 34.24it/s, loss=0.516, train_loss=0.489, valid_loss=0.365, valid_accuracy=0.892, train_accuracy=0.643]\n",
      "Epoch 47:  71%|███████▏  | 5/7 [00:00<00:00, 31.73it/s, loss=0.513, train_loss=0.45, valid_loss=0.365, valid_accuracy=0.892, train_accuracy=0.629] \n",
      "Epoch 47: 100%|██████████| 7/7 [00:00<00:00, 34.92it/s, loss=0.513, train_loss=0.45, valid_loss=0.362, valid_accuracy=0.892, train_accuracy=0.629]\n",
      "Epoch 48:  71%|███████▏  | 5/7 [00:00<00:00, 33.65it/s, loss=0.513, train_loss=0.496, valid_loss=0.362, valid_accuracy=0.892, train_accuracy=0.629]\n",
      "Epoch 48: 100%|██████████| 7/7 [00:00<00:00, 37.33it/s, loss=0.513, train_loss=0.496, valid_loss=0.362, valid_accuracy=0.892, train_accuracy=0.629]\n",
      "Epoch 49:  71%|███████▏  | 5/7 [00:00<00:00, 31.93it/s, loss=0.513, train_loss=0.519, valid_loss=0.362, valid_accuracy=0.892, train_accuracy=0.639]\n",
      "Epoch 49: 100%|██████████| 7/7 [00:00<00:00, 36.75it/s, loss=0.513, train_loss=0.519, valid_loss=0.363, valid_accuracy=0.892, train_accuracy=0.639]\n",
      "Epoch 50:  71%|███████▏  | 5/7 [00:00<00:00, 31.53it/s, loss=0.514, train_loss=0.514, valid_loss=0.363, valid_accuracy=0.892, train_accuracy=0.641]\n",
      "Epoch 50: 100%|██████████| 7/7 [00:00<00:00, 35.99it/s, loss=0.514, train_loss=0.514, valid_loss=0.368, valid_accuracy=0.892, train_accuracy=0.641]\n",
      "Epoch 50: 100%|██████████| 7/7 [00:00<00:00, 34.75it/s, loss=0.514, train_loss=0.514, valid_loss=0.368, valid_accuracy=0.892, train_accuracy=0.641]\n"
     ]
    }
   ],
   "source": [
    "tabular_model.fit(train=train, test=test)"
   ]
  },
  {
   "cell_type": "code",
   "execution_count": 10,
   "metadata": {},
   "outputs": [
    {
     "output_type": "stream",
     "name": "stdout",
     "text": [
      "Testing: 0it [00:00, ?it/s]--------------------------------------------------------------------------------\n",
      "DATALOADER:0 TEST RESULTS\n",
      "{'test_accuracy': tensor(0.8788, device='cuda:0'),\n",
      " 'train_accuracy': tensor(0.6243, device='cuda:0'),\n",
      " 'train_loss': tensor(0.5143, device='cuda:0'),\n",
      " 'valid_accuracy': tensor(0.8916, device='cuda:0'),\n",
      " 'valid_loss': tensor(0.3676, device='cuda:0')}\n",
      "--------------------------------------------------------------------------------\n",
      "Testing: 100%|██████████| 3/3 [00:00<00:00, 38.08it/s]\n",
      "[{'train_loss': 0.5142579078674316, 'valid_loss': 0.3675748109817505, 'valid_accuracy': 0.8915555477142334, 'train_accuracy': 0.6242941617965698, 'test_accuracy': 0.8787999749183655}]\n"
     ]
    }
   ],
   "source": [
    "result = tabular_model.evaluate(test)\n",
    "print(result)"
   ]
  },
  {
   "cell_type": "code",
   "execution_count": 11,
   "metadata": {},
   "outputs": [],
   "source": [
    "cat_embed_pred_df = tabular_model.predict(test)"
   ]
  },
  {
   "source": [
    "### Use Category Embedding"
   ],
   "cell_type": "markdown",
   "metadata": {}
  },
  {
   "cell_type": "code",
   "execution_count": 12,
   "metadata": {},
   "outputs": [
    {
     "output_type": "execute_result",
     "data": {
      "text/plain": [
       "LGBMClassifier(random_state=42)"
      ]
     },
     "metadata": {},
     "execution_count": 12
    }
   ],
   "source": [
    "transformer = CategoricalEmbeddingTransformer(tabular_model)\n",
    "transf_train = transformer.fit_transform(train)\n",
    "clf = lgb.LGBMClassifier(random_state=42)\n",
    "clf.fit(transf_train.drop(columns='target'), transf_train['target'])"
   ]
  },
  {
   "cell_type": "code",
   "execution_count": 14,
   "metadata": {},
   "outputs": [
    {
     "output_type": "stream",
     "name": "stdout",
     "text": [
      "Val Acc: 0.9354666666666667 | Val F1: 0.9357408390865639\n"
     ]
    }
   ],
   "source": [
    "transf_val = transformer.transform(val)\n",
    "val_pred = clf.predict(transf_val.drop(columns='target'))\n",
    "val_acc = accuracy_score(transf_val['target'].values.ravel(), val_pred)\n",
    "val_f1 = f1_score(transf_val['target'].values.ravel(), val_pred)\n",
    "print(f\"Val Acc: {val_acc} | Val F1: {val_f1}\")"
   ]
  },
  {
   "cell_type": "code",
   "execution_count": 15,
   "metadata": {},
   "outputs": [
    {
     "output_type": "stream",
     "name": "stdout",
     "text": [
      "Test Acc: 0.9352 | Test F1: 0.9366692728694292\n"
     ]
    }
   ],
   "source": [
    "transf_test = transformer.transform(test)\n",
    "test_pred = clf.predict(transf_test.drop(columns='target'))\n",
    "test_acc = accuracy_score(transf_test['target'].values.ravel(), test_pred)\n",
    "test_f1 = f1_score(transf_test['target'].values.ravel(), test_pred)\n",
    "print(f\"Test Acc: {test_acc} | Test F1: {test_f1}\")"
   ]
  },
  {
   "source": [
    "## NODE"
   ],
   "cell_type": "markdown",
   "metadata": {}
  },
  {
   "cell_type": "code",
   "execution_count": 16,
   "metadata": {},
   "outputs": [],
   "source": [
    "data_config = DataConfig(\n",
    "    target=['target'],\n",
    "    continuous_cols=num_col_names,\n",
    "    categorical_cols=cat_col_names,\n",
    "    continuous_feature_transform=None,#\"yeo-johnson\",\n",
    "    normalize_continuous_features=True\n",
    ")\n",
    "trainer_config = TrainerConfig(\n",
    "    auto_lr_find=True,\n",
    "    batch_size=64,\n",
    "    max_epochs=1000,\n",
    "    gpus=1,\n",
    "    # track_grad_norm=2,\n",
    "    gradient_clip_val=10,\n",
    ")\n",
    "# experiment_config = ExperimentConfig(project_name=\"Tabular_test\", log_logits=True)\n",
    "optimizer_config = OptimizerConfig()\n",
    "\n",
    "model_config = NodeConfig(\n",
    "    task=\"classification\",\n",
    "    num_layers=2,\n",
    "    num_trees=1024,\n",
    "    learning_rate=1,\n",
    "    embed_categorical=False,\n",
    "    # metrics=[\"MeanSquaredLogError\"],\n",
    "    # target_range=(train['block_0'].min().item(), train['block_0'].max().item())\n",
    ")\n",
    "tabular_model = TabularModel(\n",
    "    data_config=data_config,\n",
    "    model_config=model_config,\n",
    "    optimizer_config=optimizer_config,\n",
    "    trainer_config=trainer_config,\n",
    ")"
   ]
  },
  {
   "cell_type": "code",
   "execution_count": 17,
   "metadata": {
    "tags": []
   },
   "outputs": [
    {
     "output_type": "stream",
     "name": "stderr",
     "text": [
      "Multi-Target Regression: using the first target({self.config.target[0]}) to encode the categorical columns\n",
      "GPU available: True, used: False\n",
      "GPU available: True, used: False\n",
      "TPU available: False, using: 0 TPU cores\n",
      "TPU available: False, using: 0 TPU cores\n",
      "GPU available: True, used: True\n",
      "GPU available: True, used: True\n",
      "TPU available: False, using: 0 TPU cores\n",
      "TPU available: False, using: 0 TPU cores\n",
      "LOCAL_RANK: 0 - CUDA_VISIBLE_DEVICES: [0]\n",
      "LOCAL_RANK: 0 - CUDA_VISIBLE_DEVICES: [0]\n",
      "\n",
      "  | Name            | Type             | Params\n",
      "-----------------------------------------------------\n",
      "0 | dense_block     | DenseODSTBlock   | 13.1 M\n",
      "1 | output_response | Lambda           | 0     \n",
      "2 | loss            | CrossEntropyLoss | 0     \n",
      "\n",
      "  | Name            | Type             | Params\n",
      "-----------------------------------------------------\n",
      "0 | dense_block     | DenseODSTBlock   | 13.1 M\n",
      "1 | output_response | Lambda           | 0     \n",
      "2 | loss            | CrossEntropyLoss | 0     \n",
      "Finding best initial lr: 100%|██████████| 100/100 [00:23<00:00,  4.70it/s]Learning rate set to 0.6918309709189363\n",
      "Learning rate set to 0.6918309709189363\n",
      "\n",
      "  | Name            | Type             | Params\n",
      "-----------------------------------------------------\n",
      "0 | dense_block     | DenseODSTBlock   | 13.1 M\n",
      "1 | output_response | Lambda           | 0     \n",
      "2 | loss            | CrossEntropyLoss | 0     \n",
      "\n",
      "  | Name            | Type             | Params\n",
      "-----------------------------------------------------\n",
      "0 | dense_block     | DenseODSTBlock   | 13.1 M\n",
      "1 | output_response | Lambda           | 0     \n",
      "2 | loss            | CrossEntropyLoss | 0     \n",
      "Epoch 1:  80%|███████▉  | 71/89 [00:15<00:06,  2.84it/s, loss=0.351, train_loss=0.444, valid_loss=0.597, valid_accuracy=0.78, train_accuracy=0.864]\n",
      "Validating: 0it [00:00, ?it/s]\u001b[A\n",
      "Epoch 1:  82%|████████▏ | 73/89 [00:15<00:05,  2.95it/s, loss=0.351, train_loss=0.444, valid_loss=0.597, valid_accuracy=0.78, train_accuracy=0.864]\n",
      "Validating:  11%|█         | 2/18 [00:00<00:02,  7.13it/s]\u001b[A\n",
      "Epoch 1:  84%|████████▍ | 75/89 [00:15<00:04,  3.02it/s, loss=0.351, train_loss=0.444, valid_loss=0.597, valid_accuracy=0.78, train_accuracy=0.864]\n",
      "Validating:  22%|██▏       | 4/18 [00:00<00:01,  7.10it/s]\u001b[A\n",
      "Epoch 1:  87%|████████▋ | 77/89 [00:15<00:03,  3.10it/s, loss=0.351, train_loss=0.444, valid_loss=0.597, valid_accuracy=0.78, train_accuracy=0.864]\n",
      "Validating:  33%|███▎      | 6/18 [00:00<00:01,  7.05it/s]\u001b[A\n",
      "Epoch 1:  89%|████████▉ | 79/89 [00:16<00:03,  3.17it/s, loss=0.351, train_loss=0.444, valid_loss=0.597, valid_accuracy=0.78, train_accuracy=0.864]\n",
      "Validating:  44%|████▍     | 8/18 [00:01<00:01,  7.09it/s]\u001b[A\n",
      "Epoch 1:  91%|█████████ | 81/89 [00:16<00:02,  3.23it/s, loss=0.351, train_loss=0.444, valid_loss=0.597, valid_accuracy=0.78, train_accuracy=0.864]\n",
      "Validating:  56%|█████▌    | 10/18 [00:01<00:01,  7.09it/s]\u001b[A\n",
      "Epoch 1:  93%|█████████▎| 83/89 [00:16<00:01,  3.30it/s, loss=0.351, train_loss=0.444, valid_loss=0.597, valid_accuracy=0.78, train_accuracy=0.864]\n",
      "Validating:  67%|██████▋   | 12/18 [00:01<00:00,  7.10it/s]\u001b[A\n",
      "Epoch 1:  96%|█████████▌| 85/89 [00:16<00:01,  3.36it/s, loss=0.351, train_loss=0.444, valid_loss=0.597, valid_accuracy=0.78, train_accuracy=0.864]\n",
      "Validating:  78%|███████▊  | 14/18 [00:01<00:00,  7.10it/s]\u001b[A\n",
      "Epoch 1:  98%|█████████▊| 87/89 [00:17<00:00,  3.42it/s, loss=0.351, train_loss=0.444, valid_loss=0.597, valid_accuracy=0.78, train_accuracy=0.864]\n",
      "Validating:  89%|████████▉ | 16/18 [00:02<00:00,  7.10it/s]\u001b[A\n",
      "Epoch 1: 100%|██████████| 89/89 [00:17<00:00,  3.48it/s, loss=0.351, train_loss=0.444, valid_loss=0.597, valid_accuracy=0.78, train_accuracy=0.864]\n",
      "Epoch 1: 100%|██████████| 89/89 [00:19<00:00,  3.13it/s, loss=0.351, train_loss=0.444, valid_loss=0.299, valid_accuracy=0.9, train_accuracy=0.864] \n",
      "Epoch 2:  81%|████████  | 72/89 [00:15<00:05,  2.92it/s, loss=0.296, train_loss=0.387, valid_loss=0.299, valid_accuracy=0.9, train_accuracy=0.847]\n",
      "Validating: 0it [00:00, ?it/s]\u001b[A\n",
      "Validating:   6%|▌         | 1/18 [00:00<00:02,  7.21it/s]\u001b[A\n",
      "Epoch 2:  83%|████████▎ | 74/89 [00:15<00:05,  2.99it/s, loss=0.296, train_loss=0.387, valid_loss=0.299, valid_accuracy=0.9, train_accuracy=0.847]\n",
      "Validating:  17%|█▋        | 3/18 [00:00<00:02,  7.12it/s]\u001b[A\n",
      "Epoch 2:  85%|████████▌ | 76/89 [00:15<00:04,  3.07it/s, loss=0.296, train_loss=0.387, valid_loss=0.299, valid_accuracy=0.9, train_accuracy=0.847]\n",
      "Validating:  28%|██▊       | 5/18 [00:00<00:01,  7.09it/s]\u001b[A\n",
      "Epoch 2:  88%|████████▊ | 78/89 [00:15<00:03,  3.14it/s, loss=0.296, train_loss=0.387, valid_loss=0.299, valid_accuracy=0.9, train_accuracy=0.847]\n",
      "Validating:  39%|███▉      | 7/18 [00:00<00:01,  7.08it/s]\u001b[A\n",
      "Epoch 2:  90%|████████▉ | 80/89 [00:16<00:02,  3.21it/s, loss=0.296, train_loss=0.387, valid_loss=0.299, valid_accuracy=0.9, train_accuracy=0.847]\n",
      "Validating:  50%|█████     | 9/18 [00:01<00:01,  7.05it/s]\u001b[A\n",
      "Epoch 2:  92%|█████████▏| 82/89 [00:16<00:02,  3.27it/s, loss=0.296, train_loss=0.387, valid_loss=0.299, valid_accuracy=0.9, train_accuracy=0.847]\n",
      "Validating:  61%|██████    | 11/18 [00:01<00:00,  7.06it/s]\u001b[A\n",
      "Epoch 2:  94%|█████████▍| 84/89 [00:16<00:01,  3.34it/s, loss=0.296, train_loss=0.387, valid_loss=0.299, valid_accuracy=0.9, train_accuracy=0.847]\n",
      "Validating:  72%|███████▏  | 13/18 [00:01<00:00,  7.08it/s]\u001b[A\n",
      "Epoch 2:  97%|█████████▋| 86/89 [00:17<00:00,  3.40it/s, loss=0.296, train_loss=0.387, valid_loss=0.299, valid_accuracy=0.9, train_accuracy=0.847]\n",
      "Validating:  83%|████████▎ | 15/18 [00:02<00:00,  7.07it/s]\u001b[A\n",
      "Epoch 2:  99%|█████████▉| 88/89 [00:17<00:00,  3.46it/s, loss=0.296, train_loss=0.387, valid_loss=0.299, valid_accuracy=0.9, train_accuracy=0.847]\n",
      "Validating:  94%|█████████▍| 17/18 [00:02<00:00,  7.08it/s]\u001b[A\n",
      "Epoch 2: 100%|██████████| 89/89 [00:17<00:00,  3.46it/s, loss=0.296, train_loss=0.387, valid_loss=0.368, valid_accuracy=0.868, train_accuracy=0.847]\n",
      "Epoch 3:  81%|████████  | 72/89 [00:15<00:05,  2.89it/s, loss=0.323, train_loss=0.241, valid_loss=0.368, valid_accuracy=0.868, train_accuracy=0.887]\n",
      "Validating: 0it [00:00, ?it/s]\u001b[A\n",
      "Validating:   6%|▌         | 1/18 [00:00<00:02,  7.01it/s]\u001b[A\n",
      "Epoch 3:  83%|████████▎ | 74/89 [00:15<00:05,  2.96it/s, loss=0.323, train_loss=0.241, valid_loss=0.368, valid_accuracy=0.868, train_accuracy=0.887]\n",
      "Validating:  17%|█▋        | 3/18 [00:00<00:02,  6.95it/s]\u001b[A\n",
      "Epoch 3:  85%|████████▌ | 76/89 [00:15<00:04,  3.04it/s, loss=0.323, train_loss=0.241, valid_loss=0.368, valid_accuracy=0.868, train_accuracy=0.887]\n",
      "Validating:  28%|██▊       | 5/18 [00:00<00:01,  6.88it/s]\u001b[A\n",
      "Epoch 3:  88%|████████▊ | 78/89 [00:16<00:03,  3.10it/s, loss=0.323, train_loss=0.241, valid_loss=0.368, valid_accuracy=0.868, train_accuracy=0.887]\n",
      "Validating:  39%|███▉      | 7/18 [00:01<00:01,  6.75it/s]\u001b[A\n",
      "Epoch 3:  90%|████████▉ | 80/89 [00:16<00:02,  3.17it/s, loss=0.323, train_loss=0.241, valid_loss=0.368, valid_accuracy=0.868, train_accuracy=0.887]\n",
      "Validating:  50%|█████     | 9/18 [00:01<00:01,  6.82it/s]\u001b[A\n",
      "Epoch 3:  92%|█████████▏| 82/89 [00:16<00:02,  3.24it/s, loss=0.323, train_loss=0.241, valid_loss=0.368, valid_accuracy=0.868, train_accuracy=0.887]\n",
      "Validating:  61%|██████    | 11/18 [00:01<00:01,  6.84it/s]\u001b[A\n",
      "Epoch 3:  94%|█████████▍| 84/89 [00:16<00:01,  3.30it/s, loss=0.323, train_loss=0.241, valid_loss=0.368, valid_accuracy=0.868, train_accuracy=0.887]\n",
      "Validating:  72%|███████▏  | 13/18 [00:01<00:00,  6.87it/s]\u001b[A\n",
      "Epoch 3:  97%|█████████▋| 86/89 [00:17<00:00,  3.36it/s, loss=0.323, train_loss=0.241, valid_loss=0.368, valid_accuracy=0.868, train_accuracy=0.887]\n",
      "Validating:  83%|████████▎ | 15/18 [00:02<00:00,  6.86it/s]\u001b[A\n",
      "Epoch 3:  99%|█████████▉| 88/89 [00:17<00:00,  3.42it/s, loss=0.323, train_loss=0.241, valid_loss=0.368, valid_accuracy=0.868, train_accuracy=0.887]\n",
      "Validating:  94%|█████████▍| 17/18 [00:02<00:00,  6.84it/s]\u001b[A\n",
      "Epoch 3: 100%|██████████| 89/89 [00:17<00:00,  3.42it/s, loss=0.323, train_loss=0.241, valid_loss=0.307, valid_accuracy=0.887, train_accuracy=0.887]\n",
      "Epoch 4:  81%|████████  | 72/89 [00:15<00:06,  2.78it/s, loss=0.317, train_loss=0.25, valid_loss=0.307, valid_accuracy=0.887, train_accuracy=0.873]\n",
      "Validating: 0it [00:00, ?it/s]\u001b[A\n",
      "Validating:   6%|▌         | 1/18 [00:00<00:02,  6.73it/s]\u001b[A\n",
      "Epoch 4:  83%|████████▎ | 74/89 [00:16<00:05,  2.85it/s, loss=0.317, train_loss=0.25, valid_loss=0.307, valid_accuracy=0.887, train_accuracy=0.873]\n",
      "Validating:  17%|█▋        | 3/18 [00:00<00:02,  6.66it/s]\u001b[A\n",
      "Epoch 4:  85%|████████▌ | 76/89 [00:16<00:04,  2.92it/s, loss=0.317, train_loss=0.25, valid_loss=0.307, valid_accuracy=0.887, train_accuracy=0.873]\n",
      "Validating:  28%|██▊       | 5/18 [00:00<00:01,  6.62it/s]\u001b[A\n",
      "Epoch 4:  88%|████████▊ | 78/89 [00:16<00:03,  2.98it/s, loss=0.317, train_loss=0.25, valid_loss=0.307, valid_accuracy=0.887, train_accuracy=0.873]\n",
      "Validating:  39%|███▉      | 7/18 [00:01<00:01,  6.59it/s]\u001b[A\n",
      "Epoch 4:  90%|████████▉ | 80/89 [00:17<00:02,  3.05it/s, loss=0.317, train_loss=0.25, valid_loss=0.307, valid_accuracy=0.887, train_accuracy=0.873]\n",
      "Validating:  50%|█████     | 9/18 [00:01<00:01,  6.55it/s]\u001b[A\n",
      "Epoch 4:  92%|█████████▏| 82/89 [00:17<00:02,  3.11it/s, loss=0.317, train_loss=0.25, valid_loss=0.307, valid_accuracy=0.887, train_accuracy=0.873]\n",
      "Validating:  61%|██████    | 11/18 [00:01<00:01,  6.57it/s]\u001b[A\n",
      "Epoch 4:  94%|█████████▍| 84/89 [00:17<00:01,  3.17it/s, loss=0.317, train_loss=0.25, valid_loss=0.307, valid_accuracy=0.887, train_accuracy=0.873]\n",
      "Validating:  72%|███████▏  | 13/18 [00:01<00:00,  6.56it/s]\u001b[A\n",
      "Epoch 4:  97%|█████████▋| 86/89 [00:17<00:00,  3.23it/s, loss=0.317, train_loss=0.25, valid_loss=0.307, valid_accuracy=0.887, train_accuracy=0.873]\n",
      "Validating:  83%|████████▎ | 15/18 [00:02<00:00,  6.59it/s]\u001b[A\n",
      "Epoch 4:  99%|█████████▉| 88/89 [00:18<00:00,  3.28it/s, loss=0.317, train_loss=0.25, valid_loss=0.307, valid_accuracy=0.887, train_accuracy=0.873]\n",
      "Validating:  94%|█████████▍| 17/18 [00:02<00:00,  6.60it/s]\u001b[A\n",
      "Epoch 4: 100%|██████████| 89/89 [00:18<00:00,  3.28it/s, loss=0.317, train_loss=0.25, valid_loss=0.309, valid_accuracy=0.895, train_accuracy=0.873]\n",
      "                                                           \u001b[A"
     ]
    }
   ],
   "source": [
    "tabular_model.fit(train=train, test=test)"
   ]
  },
  {
   "cell_type": "code",
   "execution_count": 18,
   "metadata": {},
   "outputs": [
    {
     "output_type": "stream",
     "name": "stdout",
     "text": [
      "Testing: 100%|██████████| 40/40 [00:06<00:00,  6.79it/s]--------------------------------------------------------------------------------\n",
      "DATALOADER:0 TEST RESULTS\n",
      "{'test_accuracy': tensor(0.8996, device='cuda:0'),\n",
      " 'train_accuracy': tensor(0.8809, device='cuda:0'),\n",
      " 'train_loss': tensor(0.2498, device='cuda:0'),\n",
      " 'valid_accuracy': tensor(0.8951, device='cuda:0'),\n",
      " 'valid_loss': tensor(0.3093, device='cuda:0')}\n",
      "--------------------------------------------------------------------------------\n",
      "Testing: 100%|██████████| 40/40 [00:06<00:00,  6.64it/s]\n",
      "[{'train_loss': 0.24976079165935516, 'valid_loss': 0.30926480889320374, 'valid_accuracy': 0.895111083984375, 'train_accuracy': 0.8808538913726807, 'test_accuracy': 0.8996000289916992}]\n"
     ]
    }
   ],
   "source": [
    "result = tabular_model.evaluate(test)\n",
    "print(result)"
   ]
  },
  {
   "cell_type": "code",
   "execution_count": 20,
   "metadata": {},
   "outputs": [],
   "source": [
    "node_pred_df = tabular_model.predict(test)"
   ]
  },
  {
   "source": [
    "## NODE (Cat Embed)"
   ],
   "cell_type": "markdown",
   "metadata": {}
  },
  {
   "cell_type": "code",
   "execution_count": 21,
   "metadata": {},
   "outputs": [],
   "source": [
    "data_config = DataConfig(\n",
    "    target=['target'],\n",
    "    continuous_cols=num_col_names,\n",
    "    categorical_cols=cat_col_names,\n",
    "    continuous_feature_transform=None,#\"yeo-johnson\",\n",
    "    normalize_continuous_features=True\n",
    ")\n",
    "trainer_config = TrainerConfig(\n",
    "    auto_lr_find=True,\n",
    "    batch_size=64,\n",
    "    max_epochs=1000,\n",
    "    gpus=1,\n",
    "    # track_grad_norm=2,\n",
    "    gradient_clip_val=10,\n",
    ")\n",
    "# experiment_config = ExperimentConfig(project_name=\"Tabular_test\", log_logits=True)\n",
    "optimizer_config = OptimizerConfig()\n",
    "\n",
    "model_config = NodeConfig(\n",
    "    task=\"classification\",\n",
    "    num_layers=2,\n",
    "    num_trees=1024,\n",
    "    learning_rate=1,\n",
    "    embed_categorical=True,\n",
    "    # metrics=[\"MeanSquaredLogError\"],\n",
    "    # target_range=(train['block_0'].min().item(), train['block_0'].max().item())\n",
    ")\n",
    "tabular_model = TabularModel(\n",
    "    data_config=data_config,\n",
    "    model_config=model_config,\n",
    "    optimizer_config=optimizer_config,\n",
    "    trainer_config=trainer_config,\n",
    ")"
   ]
  },
  {
   "cell_type": "code",
   "execution_count": 22,
   "metadata": {
    "tags": [
     "outputPrepend"
    ]
   },
   "outputs": [
    {
     "output_type": "stream",
     "name": "stderr",
     "text": [
      "0:22<00:00,  4.38it/s]\u001b[A\n",
      "Finding best initial lr: 100%|██████████| 100/100 [00:23<00:00,  4.38it/s]\u001b[ALearning rate set to 0.10964781961431852\n",
      "Learning rate set to 0.10964781961431852\n",
      "Epoch 4: 100%|██████████| 89/89 [01:35<00:00,  1.57s/it, loss=0.317, train_loss=0.25, valid_loss=0.309, valid_accuracy=0.895, train_accuracy=0.873]\n",
      "Finding best initial lr: 100%|██████████| 100/100 [00:23<00:00,  4.28it/s]\n",
      "\n",
      "\n",
      "  | Name              | Type             | Params\n",
      "-------------------------------------------------------\n",
      "0 | embedding_layers  | ModuleList       | 45    \n",
      "1 | embedding_dropout | Dropout          | 0     \n",
      "2 | dense_block       | DenseODSTBlock   | 13.2 M\n",
      "3 | output_response   | Lambda           | 0     \n",
      "4 | loss              | CrossEntropyLoss | 0     \n",
      "\n",
      "  | Name              | Type             | Params\n",
      "-------------------------------------------------------\n",
      "0 | embedding_layers  | ModuleList       | 45    \n",
      "1 | embedding_dropout | Dropout          | 0     \n",
      "2 | dense_block       | DenseODSTBlock   | 13.2 M\n",
      "3 | output_response   | Lambda           | 0     \n",
      "4 | loss              | CrossEntropyLoss | 0     \n",
      "Epoch 1:  80%|███████▉  | 71/89 [00:16<00:06,  2.67it/s, loss=0.502, train_loss=0.533, valid_loss=0.666, valid_accuracy=0.772, train_accuracy=0.768]\n",
      "Validating: 0it [00:00, ?it/s]\u001b[A\n",
      "Epoch 1:  82%|████████▏ | 73/89 [00:16<00:05,  2.77it/s, loss=0.502, train_loss=0.533, valid_loss=0.666, valid_accuracy=0.772, train_accuracy=0.768]\n",
      "Validating:  11%|█         | 2/18 [00:00<00:02,  6.58it/s]\u001b[A\n",
      "Epoch 1:  84%|████████▍ | 75/89 [00:16<00:04,  2.84it/s, loss=0.502, train_loss=0.533, valid_loss=0.666, valid_accuracy=0.772, train_accuracy=0.768]\n",
      "Validating:  22%|██▏       | 4/18 [00:00<00:02,  6.53it/s]\u001b[A\n",
      "Epoch 1:  87%|████████▋ | 77/89 [00:16<00:04,  2.91it/s, loss=0.502, train_loss=0.533, valid_loss=0.666, valid_accuracy=0.772, train_accuracy=0.768]\n",
      "Validating:  33%|███▎      | 6/18 [00:00<00:01,  6.51it/s]\u001b[A\n",
      "Epoch 1:  89%|████████▉ | 79/89 [00:17<00:03,  2.97it/s, loss=0.502, train_loss=0.533, valid_loss=0.666, valid_accuracy=0.772, train_accuracy=0.768]\n",
      "Validating:  44%|████▍     | 8/18 [00:01<00:01,  6.50it/s]\u001b[A\n",
      "Epoch 1:  91%|█████████ | 81/89 [00:17<00:02,  3.03it/s, loss=0.502, train_loss=0.533, valid_loss=0.666, valid_accuracy=0.772, train_accuracy=0.768]\n",
      "Validating:  56%|█████▌    | 10/18 [00:01<00:01,  6.39it/s]\u001b[A\n",
      "Epoch 1:  93%|█████████▎| 83/89 [00:17<00:01,  3.09it/s, loss=0.502, train_loss=0.533, valid_loss=0.666, valid_accuracy=0.772, train_accuracy=0.768]\n",
      "Validating:  67%|██████▋   | 12/18 [00:01<00:00,  6.43it/s]\u001b[A\n",
      "Epoch 1:  96%|█████████▌| 85/89 [00:18<00:01,  3.15it/s, loss=0.502, train_loss=0.533, valid_loss=0.666, valid_accuracy=0.772, train_accuracy=0.768]\n",
      "Validating:  78%|███████▊  | 14/18 [00:02<00:00,  6.46it/s]\u001b[A\n",
      "Epoch 1:  98%|█████████▊| 87/89 [00:18<00:00,  3.21it/s, loss=0.502, train_loss=0.533, valid_loss=0.666, valid_accuracy=0.772, train_accuracy=0.768]\n",
      "Validating:  89%|████████▉ | 16/18 [00:02<00:00,  6.48it/s]\u001b[A\n",
      "Epoch 1: 100%|██████████| 89/89 [00:18<00:00,  3.26it/s, loss=0.502, train_loss=0.533, valid_loss=0.666, valid_accuracy=0.772, train_accuracy=0.768]\n",
      "Epoch 1: 100%|██████████| 89/89 [00:20<00:00,  2.94it/s, loss=0.502, train_loss=0.533, valid_loss=0.4, valid_accuracy=0.868, train_accuracy=0.768]  \n",
      "Epoch 2:  81%|████████  | 72/89 [00:16<00:06,  2.74it/s, loss=0.453, train_loss=0.312, valid_loss=0.4, valid_accuracy=0.868, train_accuracy=0.733]\n",
      "Validating: 0it [00:00, ?it/s]\u001b[A\n",
      "Validating:   6%|▌         | 1/18 [00:00<00:02,  6.55it/s]\u001b[A\n",
      "Epoch 2:  83%|████████▎ | 74/89 [00:16<00:05,  2.81it/s, loss=0.453, train_loss=0.312, valid_loss=0.4, valid_accuracy=0.868, train_accuracy=0.733]\n",
      "Validating:  17%|█▋        | 3/18 [00:00<00:02,  6.51it/s]\u001b[A\n",
      "Epoch 2:  85%|████████▌ | 76/89 [00:16<00:04,  2.88it/s, loss=0.453, train_loss=0.312, valid_loss=0.4, valid_accuracy=0.868, train_accuracy=0.733]\n",
      "Validating:  28%|██▊       | 5/18 [00:00<00:02,  6.50it/s]\u001b[A\n",
      "Epoch 2:  88%|████████▊ | 78/89 [00:16<00:03,  2.95it/s, loss=0.453, train_loss=0.312, valid_loss=0.4, valid_accuracy=0.868, train_accuracy=0.733]\n",
      "Validating:  39%|███▉      | 7/18 [00:01<00:01,  6.50it/s]\u001b[A\n",
      "Epoch 2:  90%|████████▉ | 80/89 [00:17<00:02,  3.01it/s, loss=0.453, train_loss=0.312, valid_loss=0.4, valid_accuracy=0.868, train_accuracy=0.733]\n",
      "Validating:  50%|█████     | 9/18 [00:01<00:01,  6.49it/s]\u001b[A\n",
      "Epoch 2:  92%|█████████▏| 82/89 [00:17<00:02,  3.07it/s, loss=0.453, train_loss=0.312, valid_loss=0.4, valid_accuracy=0.868, train_accuracy=0.733]\n",
      "Validating:  61%|██████    | 11/18 [00:01<00:01,  6.50it/s]\u001b[A\n",
      "Epoch 2:  94%|█████████▍| 84/89 [00:17<00:01,  3.13it/s, loss=0.453, train_loss=0.312, valid_loss=0.4, valid_accuracy=0.868, train_accuracy=0.733]\n",
      "Validating:  72%|███████▏  | 13/18 [00:01<00:00,  6.51it/s]\u001b[A\n",
      "Epoch 2:  97%|█████████▋| 86/89 [00:18<00:00,  3.19it/s, loss=0.453, train_loss=0.312, valid_loss=0.4, valid_accuracy=0.868, train_accuracy=0.733]\n",
      "Validating:  83%|████████▎ | 15/18 [00:02<00:00,  6.48it/s]\u001b[A\n",
      "Epoch 2:  99%|█████████▉| 88/89 [00:18<00:00,  3.24it/s, loss=0.453, train_loss=0.312, valid_loss=0.4, valid_accuracy=0.868, train_accuracy=0.733]\n",
      "Validating:  94%|█████████▍| 17/18 [00:02<00:00,  6.44it/s]\u001b[A\n",
      "Epoch 2: 100%|██████████| 89/89 [00:20<00:00,  2.94it/s, loss=0.453, train_loss=0.312, valid_loss=0.352, valid_accuracy=0.874, train_accuracy=0.733]\n",
      "Epoch 3:  81%|████████  | 72/89 [00:16<00:06,  2.73it/s, loss=0.468, train_loss=0.568, valid_loss=0.352, valid_accuracy=0.874, train_accuracy=0.771]\n",
      "Validating: 0it [00:00, ?it/s]\u001b[A\n",
      "Validating:   6%|▌         | 1/18 [00:00<00:02,  6.55it/s]\u001b[A\n",
      "Epoch 3:  83%|████████▎ | 74/89 [00:16<00:05,  2.80it/s, loss=0.468, train_loss=0.568, valid_loss=0.352, valid_accuracy=0.874, train_accuracy=0.771]\n",
      "Validating:  17%|█▋        | 3/18 [00:00<00:02,  6.52it/s]\u001b[A\n",
      "Epoch 3:  85%|████████▌ | 76/89 [00:16<00:04,  2.86it/s, loss=0.468, train_loss=0.568, valid_loss=0.352, valid_accuracy=0.874, train_accuracy=0.771]\n",
      "Validating:  28%|██▊       | 5/18 [00:00<00:02,  6.45it/s]\u001b[A\n",
      "Epoch 3:  88%|████████▊ | 78/89 [00:17<00:03,  2.93it/s, loss=0.468, train_loss=0.568, valid_loss=0.352, valid_accuracy=0.874, train_accuracy=0.771]\n",
      "Validating:  39%|███▉      | 7/18 [00:01<00:01,  6.45it/s]\u001b[A\n",
      "Epoch 3:  90%|████████▉ | 80/89 [00:17<00:03,  2.99it/s, loss=0.468, train_loss=0.568, valid_loss=0.352, valid_accuracy=0.874, train_accuracy=0.771]\n",
      "Validating:  50%|█████     | 9/18 [00:01<00:01,  6.47it/s]\u001b[A\n",
      "Epoch 3:  92%|█████████▏| 82/89 [00:17<00:02,  3.05it/s, loss=0.468, train_loss=0.568, valid_loss=0.352, valid_accuracy=0.874, train_accuracy=0.771]\n",
      "Validating:  61%|██████    | 11/18 [00:01<00:01,  6.44it/s]\u001b[A\n",
      "Epoch 3:  94%|█████████▍| 84/89 [00:18<00:01,  3.11it/s, loss=0.468, train_loss=0.568, valid_loss=0.352, valid_accuracy=0.874, train_accuracy=0.771]\n",
      "Validating:  72%|███████▏  | 13/18 [00:02<00:00,  6.48it/s]\u001b[A\n",
      "Epoch 3:  97%|█████████▋| 86/89 [00:18<00:00,  3.17it/s, loss=0.468, train_loss=0.568, valid_loss=0.352, valid_accuracy=0.874, train_accuracy=0.771]\n",
      "Validating:  83%|████████▎ | 15/18 [00:02<00:00,  6.44it/s]\u001b[A\n",
      "Epoch 3:  99%|█████████▉| 88/89 [00:18<00:00,  3.22it/s, loss=0.468, train_loss=0.568, valid_loss=0.352, valid_accuracy=0.874, train_accuracy=0.771]\n",
      "Validating:  94%|█████████▍| 17/18 [00:02<00:00,  6.43it/s]\u001b[A\n",
      "Epoch 3: 100%|██████████| 89/89 [00:20<00:00,  2.93it/s, loss=0.468, train_loss=0.568, valid_loss=0.318, valid_accuracy=0.858, train_accuracy=0.771]\n",
      "Epoch 4:  81%|████████  | 72/89 [00:16<00:06,  2.72it/s, loss=0.455, train_loss=0.566, valid_loss=0.318, valid_accuracy=0.858, train_accuracy=0.759]\n",
      "Validating: 0it [00:00, ?it/s]\u001b[A\n",
      "Validating:   6%|▌         | 1/18 [00:00<00:02,  6.64it/s]\u001b[A\n",
      "Epoch 4:  83%|████████▎ | 74/89 [00:16<00:05,  2.79it/s, loss=0.455, train_loss=0.566, valid_loss=0.318, valid_accuracy=0.858, train_accuracy=0.759]\n",
      "Validating:  17%|█▋        | 3/18 [00:00<00:02,  6.53it/s]\u001b[A\n",
      "Epoch 4:  85%|████████▌ | 76/89 [00:16<00:04,  2.85it/s, loss=0.455, train_loss=0.566, valid_loss=0.318, valid_accuracy=0.858, train_accuracy=0.759]\n",
      "Validating:  28%|██▊       | 5/18 [00:00<00:01,  6.51it/s]\u001b[A\n",
      "Epoch 4:  88%|████████▊ | 78/89 [00:17<00:03,  2.92it/s, loss=0.455, train_loss=0.566, valid_loss=0.318, valid_accuracy=0.858, train_accuracy=0.759]\n",
      "Validating:  39%|███▉      | 7/18 [00:01<00:01,  6.50it/s]\u001b[A\n",
      "Epoch 4:  90%|████████▉ | 80/89 [00:17<00:03,  2.98it/s, loss=0.455, train_loss=0.566, valid_loss=0.318, valid_accuracy=0.858, train_accuracy=0.759]\n",
      "Validating:  50%|█████     | 9/18 [00:01<00:01,  6.46it/s]\u001b[A\n",
      "Epoch 4:  92%|█████████▏| 82/89 [00:17<00:02,  3.04it/s, loss=0.455, train_loss=0.566, valid_loss=0.318, valid_accuracy=0.858, train_accuracy=0.759]\n",
      "Validating:  61%|██████    | 11/18 [00:01<00:01,  6.45it/s]\u001b[A\n",
      "Epoch 4:  94%|█████████▍| 84/89 [00:18<00:01,  3.10it/s, loss=0.455, train_loss=0.566, valid_loss=0.318, valid_accuracy=0.858, train_accuracy=0.759]\n",
      "Validating:  72%|███████▏  | 13/18 [00:02<00:00,  6.45it/s]\u001b[A\n",
      "Epoch 4:  97%|█████████▋| 86/89 [00:18<00:00,  3.16it/s, loss=0.455, train_loss=0.566, valid_loss=0.318, valid_accuracy=0.858, train_accuracy=0.759]\n",
      "Validating:  83%|████████▎ | 15/18 [00:02<00:00,  6.44it/s]\u001b[A\n",
      "Epoch 4:  99%|█████████▉| 88/89 [00:18<00:00,  3.21it/s, loss=0.455, train_loss=0.566, valid_loss=0.318, valid_accuracy=0.858, train_accuracy=0.759]\n",
      "Validating:  94%|█████████▍| 17/18 [00:02<00:00,  6.44it/s]\u001b[A\n",
      "Epoch 4: 100%|██████████| 89/89 [00:21<00:00,  2.85it/s, loss=0.455, train_loss=0.566, valid_loss=0.31, valid_accuracy=0.847, train_accuracy=0.759] \n",
      "Epoch 5:  81%|████████  | 72/89 [00:16<00:06,  2.71it/s, loss=0.471, train_loss=0.472, valid_loss=0.31, valid_accuracy=0.847, train_accuracy=0.741]\n",
      "Validating: 0it [00:00, ?it/s]\u001b[A\n",
      "Validating:   6%|▌         | 1/18 [00:00<00:02,  6.55it/s]\u001b[A\n",
      "Epoch 5:  83%|████████▎ | 74/89 [00:16<00:05,  2.78it/s, loss=0.471, train_loss=0.472, valid_loss=0.31, valid_accuracy=0.847, train_accuracy=0.741]\n",
      "Validating:  17%|█▋        | 3/18 [00:00<00:02,  6.46it/s]\u001b[A\n",
      "Epoch 5:  85%|████████▌ | 76/89 [00:16<00:04,  2.84it/s, loss=0.471, train_loss=0.472, valid_loss=0.31, valid_accuracy=0.847, train_accuracy=0.741]\n",
      "Validating:  28%|██▊       | 5/18 [00:00<00:02,  6.44it/s]\u001b[A\n",
      "Epoch 5:  88%|████████▊ | 78/89 [00:17<00:03,  2.91it/s, loss=0.471, train_loss=0.472, valid_loss=0.31, valid_accuracy=0.847, train_accuracy=0.741]\n",
      "Validating:  39%|███▉      | 7/18 [00:01<00:01,  6.44it/s]\u001b[A\n",
      "Epoch 5:  90%|████████▉ | 80/89 [00:17<00:03,  2.97it/s, loss=0.471, train_loss=0.472, valid_loss=0.31, valid_accuracy=0.847, train_accuracy=0.741]\n",
      "Validating:  50%|█████     | 9/18 [00:01<00:01,  6.42it/s]\u001b[A\n",
      "Epoch 5:  92%|█████████▏| 82/89 [00:17<00:02,  3.03it/s, loss=0.471, train_loss=0.472, valid_loss=0.31, valid_accuracy=0.847, train_accuracy=0.741]\n",
      "Validating:  61%|██████    | 11/18 [00:01<00:01,  6.43it/s]\u001b[A\n",
      "Epoch 5:  94%|█████████▍| 84/89 [00:18<00:01,  3.09it/s, loss=0.471, train_loss=0.472, valid_loss=0.31, valid_accuracy=0.847, train_accuracy=0.741]\n",
      "Validating:  72%|███████▏  | 13/18 [00:02<00:00,  6.43it/s]\u001b[A\n",
      "Epoch 5:  97%|█████████▋| 86/89 [00:18<00:00,  3.15it/s, loss=0.471, train_loss=0.472, valid_loss=0.31, valid_accuracy=0.847, train_accuracy=0.741]\n",
      "Validating:  83%|████████▎ | 15/18 [00:02<00:00,  6.44it/s]\u001b[A\n",
      "Epoch 5:  99%|█████████▉| 88/89 [00:18<00:00,  3.20it/s, loss=0.471, train_loss=0.472, valid_loss=0.31, valid_accuracy=0.847, train_accuracy=0.741]\n",
      "Validating:  94%|█████████▍| 17/18 [00:02<00:00,  6.45it/s]\u001b[A\n",
      "Epoch 5: 100%|██████████| 89/89 [00:20<00:00,  2.91it/s, loss=0.471, train_loss=0.472, valid_loss=0.309, valid_accuracy=0.864, train_accuracy=0.741]\n",
      "Epoch 6:  81%|████████  | 72/89 [00:16<00:06,  2.71it/s, loss=0.454, train_loss=0.29, valid_loss=0.309, valid_accuracy=0.864, train_accuracy=0.754]\n",
      "Validating: 0it [00:00, ?it/s]\u001b[A\n",
      "Validating:   6%|▌         | 1/18 [00:00<00:02,  6.55it/s]\u001b[A\n",
      "Epoch 6:  83%|████████▎ | 74/89 [00:16<00:05,  2.78it/s, loss=0.454, train_loss=0.29, valid_loss=0.309, valid_accuracy=0.864, train_accuracy=0.754]\n",
      "Validating:  17%|█▋        | 3/18 [00:00<00:02,  6.50it/s]\u001b[A\n",
      "Epoch 6:  85%|████████▌ | 76/89 [00:16<00:04,  2.85it/s, loss=0.454, train_loss=0.29, valid_loss=0.309, valid_accuracy=0.864, train_accuracy=0.754]\n",
      "Validating:  28%|██▊       | 5/18 [00:00<00:02,  6.46it/s]\u001b[A\n",
      "Epoch 6:  88%|████████▊ | 78/89 [00:17<00:03,  2.91it/s, loss=0.454, train_loss=0.29, valid_loss=0.309, valid_accuracy=0.864, train_accuracy=0.754]\n",
      "Validating:  39%|███▉      | 7/18 [00:01<00:01,  6.45it/s]\u001b[A\n",
      "Epoch 6:  90%|████████▉ | 80/89 [00:17<00:03,  2.97it/s, loss=0.454, train_loss=0.29, valid_loss=0.309, valid_accuracy=0.864, train_accuracy=0.754]\n",
      "Validating:  50%|█████     | 9/18 [00:01<00:01,  6.42it/s]\u001b[A\n",
      "Epoch 6:  92%|█████████▏| 82/89 [00:17<00:02,  3.03it/s, loss=0.454, train_loss=0.29, valid_loss=0.309, valid_accuracy=0.864, train_accuracy=0.754]\n",
      "Validating:  61%|██████    | 11/18 [00:01<00:01,  6.43it/s]\u001b[A\n",
      "Epoch 6:  94%|█████████▍| 84/89 [00:18<00:01,  3.09it/s, loss=0.454, train_loss=0.29, valid_loss=0.309, valid_accuracy=0.864, train_accuracy=0.754]\n",
      "Validating:  72%|███████▏  | 13/18 [00:02<00:00,  6.44it/s]\u001b[A\n",
      "Epoch 6:  97%|█████████▋| 86/89 [00:18<00:00,  3.15it/s, loss=0.454, train_loss=0.29, valid_loss=0.309, valid_accuracy=0.864, train_accuracy=0.754]\n",
      "Validating:  83%|████████▎ | 15/18 [00:02<00:00,  6.42it/s]\u001b[A\n",
      "Epoch 6:  99%|█████████▉| 88/89 [00:18<00:00,  3.20it/s, loss=0.454, train_loss=0.29, valid_loss=0.309, valid_accuracy=0.864, train_accuracy=0.754]\n",
      "Validating:  94%|█████████▍| 17/18 [00:02<00:00,  6.40it/s]\u001b[A\n",
      "Epoch 6: 100%|██████████| 89/89 [00:20<00:00,  2.91it/s, loss=0.454, train_loss=0.29, valid_loss=0.307, valid_accuracy=0.876, train_accuracy=0.754]\n",
      "Epoch 7:  81%|████████  | 72/89 [00:16<00:06,  2.72it/s, loss=0.471, train_loss=0.622, valid_loss=0.307, valid_accuracy=0.876, train_accuracy=0.771]\n",
      "Validating: 0it [00:00, ?it/s]\u001b[A\n",
      "Validating:   6%|▌         | 1/18 [00:00<00:02,  6.55it/s]\u001b[A\n",
      "Epoch 7:  83%|████████▎ | 74/89 [00:16<00:05,  2.79it/s, loss=0.471, train_loss=0.622, valid_loss=0.307, valid_accuracy=0.876, train_accuracy=0.771]\n",
      "Validating:  17%|█▋        | 3/18 [00:00<00:02,  6.47it/s]\u001b[A\n",
      "Epoch 7:  85%|████████▌ | 76/89 [00:16<00:04,  2.85it/s, loss=0.471, train_loss=0.622, valid_loss=0.307, valid_accuracy=0.876, train_accuracy=0.771]\n",
      "Validating:  28%|██▊       | 5/18 [00:00<00:02,  6.44it/s]\u001b[A\n",
      "Epoch 7:  88%|████████▊ | 78/89 [00:17<00:03,  2.92it/s, loss=0.471, train_loss=0.622, valid_loss=0.307, valid_accuracy=0.876, train_accuracy=0.771]\n",
      "Validating:  39%|███▉      | 7/18 [00:01<00:01,  6.45it/s]\u001b[A\n",
      "Epoch 7:  90%|████████▉ | 80/89 [00:17<00:03,  2.98it/s, loss=0.471, train_loss=0.622, valid_loss=0.307, valid_accuracy=0.876, train_accuracy=0.771]\n",
      "Validating:  50%|█████     | 9/18 [00:01<00:01,  6.44it/s]\u001b[A\n",
      "Epoch 7:  92%|█████████▏| 82/89 [00:17<00:02,  3.04it/s, loss=0.471, train_loss=0.622, valid_loss=0.307, valid_accuracy=0.876, train_accuracy=0.771]\n",
      "Validating:  61%|██████    | 11/18 [00:01<00:01,  6.41it/s]\u001b[A\n",
      "Epoch 7:  94%|█████████▍| 84/89 [00:18<00:01,  3.10it/s, loss=0.471, train_loss=0.622, valid_loss=0.307, valid_accuracy=0.876, train_accuracy=0.771]\n",
      "Validating:  72%|███████▏  | 13/18 [00:02<00:00,  6.42it/s]\u001b[A\n",
      "Epoch 7:  97%|█████████▋| 86/89 [00:18<00:00,  3.16it/s, loss=0.471, train_loss=0.622, valid_loss=0.307, valid_accuracy=0.876, train_accuracy=0.771]\n",
      "Validating:  83%|████████▎ | 15/18 [00:02<00:00,  6.33it/s]\u001b[A\n",
      "Epoch 7:  99%|█████████▉| 88/89 [00:18<00:00,  3.21it/s, loss=0.471, train_loss=0.622, valid_loss=0.307, valid_accuracy=0.876, train_accuracy=0.771]\n",
      "Validating:  94%|█████████▍| 17/18 [00:02<00:00,  6.33it/s]\u001b[A\n",
      "Epoch 7: 100%|██████████| 89/89 [00:19<00:00,  3.21it/s, loss=0.471, train_loss=0.622, valid_loss=0.352, valid_accuracy=0.869, train_accuracy=0.771]\n",
      "Epoch 8:  81%|████████  | 72/89 [00:16<00:06,  2.73it/s, loss=0.473, train_loss=0.497, valid_loss=0.352, valid_accuracy=0.869, train_accuracy=0.769]\n",
      "Validating: 0it [00:00, ?it/s]\u001b[A\n",
      "Validating:   6%|▌         | 1/18 [00:00<00:02,  6.55it/s]\u001b[A\n",
      "Epoch 8:  83%|████████▎ | 74/89 [00:16<00:05,  2.80it/s, loss=0.473, train_loss=0.497, valid_loss=0.352, valid_accuracy=0.869, train_accuracy=0.769]\n",
      "Validating:  17%|█▋        | 3/18 [00:00<00:02,  6.48it/s]\u001b[A\n",
      "Epoch 8:  85%|████████▌ | 76/89 [00:16<00:04,  2.87it/s, loss=0.473, train_loss=0.497, valid_loss=0.352, valid_accuracy=0.869, train_accuracy=0.769]\n",
      "Validating:  28%|██▊       | 5/18 [00:00<00:02,  6.45it/s]\u001b[A\n",
      "Epoch 8:  88%|████████▊ | 78/89 [00:17<00:03,  2.93it/s, loss=0.473, train_loss=0.497, valid_loss=0.352, valid_accuracy=0.869, train_accuracy=0.769]\n",
      "Validating:  39%|███▉      | 7/18 [00:01<00:01,  6.45it/s]\u001b[A\n",
      "Epoch 8:  90%|████████▉ | 80/89 [00:17<00:03,  2.99it/s, loss=0.473, train_loss=0.497, valid_loss=0.352, valid_accuracy=0.869, train_accuracy=0.769]\n",
      "Validating:  50%|█████     | 9/18 [00:01<00:01,  6.42it/s]\u001b[A\n",
      "Epoch 8:  92%|█████████▏| 82/89 [00:17<00:02,  3.05it/s, loss=0.473, train_loss=0.497, valid_loss=0.352, valid_accuracy=0.869, train_accuracy=0.769]\n",
      "Validating:  61%|██████    | 11/18 [00:01<00:01,  6.42it/s]\u001b[A\n",
      "Epoch 8:  94%|█████████▍| 84/89 [00:18<00:01,  3.11it/s, loss=0.473, train_loss=0.497, valid_loss=0.352, valid_accuracy=0.869, train_accuracy=0.769]\n",
      "Validating:  72%|███████▏  | 13/18 [00:02<00:00,  6.34it/s]\u001b[A\n",
      "Epoch 8:  97%|█████████▋| 86/89 [00:18<00:00,  3.17it/s, loss=0.473, train_loss=0.497, valid_loss=0.352, valid_accuracy=0.869, train_accuracy=0.769]\n",
      "Validating:  83%|████████▎ | 15/18 [00:02<00:00,  6.34it/s]\u001b[A\n",
      "Epoch 8:  99%|█████████▉| 88/89 [00:18<00:00,  3.22it/s, loss=0.473, train_loss=0.497, valid_loss=0.352, valid_accuracy=0.869, train_accuracy=0.769]\n",
      "Validating:  94%|█████████▍| 17/18 [00:02<00:00,  6.38it/s]\u001b[A\n",
      "Epoch 8: 100%|██████████| 89/89 [00:18<00:00,  3.22it/s, loss=0.473, train_loss=0.497, valid_loss=0.336, valid_accuracy=0.87, train_accuracy=0.769] \n",
      "Epoch 9:  81%|████████  | 72/89 [00:16<00:06,  2.73it/s, loss=0.407, train_loss=0.349, valid_loss=0.336, valid_accuracy=0.87, train_accuracy=0.772]\n",
      "Validating: 0it [00:00, ?it/s]\u001b[A\n",
      "Validating:   6%|▌         | 1/18 [00:00<00:02,  6.60it/s]\u001b[A\n",
      "Epoch 9:  83%|████████▎ | 74/89 [00:16<00:05,  2.80it/s, loss=0.407, train_loss=0.349, valid_loss=0.336, valid_accuracy=0.87, train_accuracy=0.772]\n",
      "Validating:  17%|█▋        | 3/18 [00:00<00:02,  6.51it/s]\u001b[A\n",
      "Epoch 9:  85%|████████▌ | 76/89 [00:16<00:04,  2.86it/s, loss=0.407, train_loss=0.349, valid_loss=0.336, valid_accuracy=0.87, train_accuracy=0.772]\n",
      "Validating:  28%|██▊       | 5/18 [00:00<00:02,  6.45it/s]\u001b[A\n",
      "Epoch 9:  88%|████████▊ | 78/89 [00:17<00:03,  2.93it/s, loss=0.407, train_loss=0.349, valid_loss=0.336, valid_accuracy=0.87, train_accuracy=0.772]\n",
      "Validating:  39%|███▉      | 7/18 [00:01<00:01,  6.43it/s]\u001b[A\n",
      "Epoch 9:  90%|████████▉ | 80/89 [00:17<00:03,  2.99it/s, loss=0.407, train_loss=0.349, valid_loss=0.336, valid_accuracy=0.87, train_accuracy=0.772]\n",
      "Validating:  50%|█████     | 9/18 [00:01<00:01,  6.43it/s]\u001b[A\n",
      "Epoch 9:  92%|█████████▏| 82/89 [00:17<00:02,  3.05it/s, loss=0.407, train_loss=0.349, valid_loss=0.336, valid_accuracy=0.87, train_accuracy=0.772]\n",
      "Validating:  61%|██████    | 11/18 [00:01<00:01,  6.41it/s]\u001b[A\n",
      "Epoch 9:  94%|█████████▍| 84/89 [00:18<00:01,  3.11it/s, loss=0.407, train_loss=0.349, valid_loss=0.336, valid_accuracy=0.87, train_accuracy=0.772]\n",
      "Validating:  72%|███████▏  | 13/18 [00:02<00:00,  6.35it/s]\u001b[A\n",
      "Epoch 9:  97%|█████████▋| 86/89 [00:18<00:00,  3.17it/s, loss=0.407, train_loss=0.349, valid_loss=0.336, valid_accuracy=0.87, train_accuracy=0.772]\n",
      "Validating:  83%|████████▎ | 15/18 [00:02<00:00,  6.36it/s]\u001b[A\n",
      "Epoch 9:  99%|█████████▉| 88/89 [00:18<00:00,  3.22it/s, loss=0.407, train_loss=0.349, valid_loss=0.336, valid_accuracy=0.87, train_accuracy=0.772]\n",
      "Validating:  94%|█████████▍| 17/18 [00:02<00:00,  6.39it/s]\u001b[A\n",
      "Epoch 9: 100%|██████████| 89/89 [00:18<00:00,  3.22it/s, loss=0.407, train_loss=0.349, valid_loss=0.357, valid_accuracy=0.859, train_accuracy=0.772]\n",
      "                                                           \u001b[A"
     ]
    }
   ],
   "source": [
    "tabular_model.fit(train=train, test=test)"
   ]
  },
  {
   "cell_type": "code",
   "execution_count": 23,
   "metadata": {},
   "outputs": [
    {
     "output_type": "stream",
     "name": "stdout",
     "text": [
      "Testing: 100%|██████████| 40/40 [00:06<00:00,  6.69it/s]--------------------------------------------------------------------------------\n",
      "DATALOADER:0 TEST RESULTS\n",
      "{'test_accuracy': tensor(0.8484, device='cuda:0'),\n",
      " 'train_accuracy': tensor(0.7829, device='cuda:0'),\n",
      " 'train_loss': tensor(0.3493, device='cuda:0'),\n",
      " 'valid_accuracy': tensor(0.8587, device='cuda:0'),\n",
      " 'valid_loss': tensor(0.3570, device='cuda:0')}\n",
      "--------------------------------------------------------------------------------\n",
      "Testing: 100%|██████████| 40/40 [00:06<00:00,  6.54it/s]\n",
      "[{'train_loss': 0.3492753207683563, 'valid_loss': 0.3570120930671692, 'valid_accuracy': 0.8586666584014893, 'train_accuracy': 0.7828785181045532, 'test_accuracy': 0.8483999967575073}]\n"
     ]
    }
   ],
   "source": [
    "result = tabular_model.evaluate(test)\n",
    "print(result)"
   ]
  },
  {
   "cell_type": "code",
   "execution_count": 24,
   "metadata": {},
   "outputs": [],
   "source": [
    "cat_embed_node_pred_df = tabular_model.predict(test)"
   ]
  },
  {
   "source": [
    "### Use Category embedding"
   ],
   "cell_type": "markdown",
   "metadata": {}
  },
  {
   "cell_type": "code",
   "execution_count": 25,
   "metadata": {},
   "outputs": [
    {
     "output_type": "execute_result",
     "data": {
      "text/plain": [
       "LGBMClassifier(random_state=42)"
      ]
     },
     "metadata": {},
     "execution_count": 25
    }
   ],
   "source": [
    "transformer = CategoricalEmbeddingTransformer(tabular_model)\n",
    "transf_train = transformer.fit_transform(train)\n",
    "clf = lgb.LGBMClassifier(random_state=42)\n",
    "clf.fit(transf_train.drop(columns='target'), transf_train['target'])"
   ]
  },
  {
   "cell_type": "code",
   "execution_count": 26,
   "metadata": {},
   "outputs": [
    {
     "output_type": "stream",
     "name": "stdout",
     "text": [
      "Val Acc: 0.9322666666666667 | Val F1: 0.932410856838744\n"
     ]
    }
   ],
   "source": [
    "transf_val = transformer.transform(val)\n",
    "val_pred = clf.predict(transf_val.drop(columns='target'))\n",
    "val_acc = accuracy_score(transf_val['target'].values.ravel(), val_pred)\n",
    "val_f1 = f1_score(transf_val['target'].values.ravel(), val_pred)\n",
    "print(f\"Val Acc: {val_acc} | Val F1: {val_f1}\")"
   ]
  },
  {
   "cell_type": "code",
   "execution_count": 27,
   "metadata": {},
   "outputs": [
    {
     "output_type": "stream",
     "name": "stdout",
     "text": [
      "Test Acc: 0.9368 | Test F1: 0.9383294301327089\n"
     ]
    }
   ],
   "source": [
    "transf_test = transformer.transform(test)\n",
    "test_pred = clf.predict(transf_test.drop(columns='target'))\n",
    "test_acc = accuracy_score(transf_test['target'].values.ravel(), test_pred)\n",
    "test_f1 = f1_score(transf_test['target'].values.ravel(), test_pred)\n",
    "print(f\"Test Acc: {test_acc} | Test F1: {test_f1}\")"
   ]
  },
  {
   "cell_type": "code",
   "execution_count": 24,
   "metadata": {},
   "outputs": [],
   "source": [
    "## TabNet"
   ]
  },
  {
   "cell_type": "code",
   "execution_count": 25,
   "metadata": {
    "tags": [
     "outputPrepend"
    ]
   },
   "outputs": [
    {
     "output_type": "stream",
     "name": "stderr",
     "text": [
      "7/7 [00:00<00:00, 19.07it/s, loss=0.613, train_loss=0.605, valid_loss=0.612, valid_accuracy=0.676, train_accuracy=0.672]\n",
      "Epoch 20:  71%|███████▏  | 5/7 [00:00<00:00, 16.99it/s, loss=0.608, train_loss=0.634, valid_loss=0.612, valid_accuracy=0.676, train_accuracy=0.67]\n",
      "Epoch 20: 100%|██████████| 7/7 [00:00<00:00, 19.12it/s, loss=0.608, train_loss=0.634, valid_loss=0.604, valid_accuracy=0.687, train_accuracy=0.67]\n",
      "Epoch 21:  71%|███████▏  | 5/7 [00:00<00:00, 17.00it/s, loss=0.599, train_loss=0.582, valid_loss=0.604, valid_accuracy=0.687, train_accuracy=0.68]\n",
      "Epoch 21: 100%|██████████| 7/7 [00:00<00:00, 19.29it/s, loss=0.599, train_loss=0.582, valid_loss=0.596, valid_accuracy=0.697, train_accuracy=0.68]\n",
      "Epoch 22:  71%|███████▏  | 5/7 [00:00<00:00, 16.82it/s, loss=0.592, train_loss=0.587, valid_loss=0.596, valid_accuracy=0.697, train_accuracy=0.696]\n",
      "Epoch 22: 100%|██████████| 7/7 [00:00<00:00, 18.72it/s, loss=0.592, train_loss=0.587, valid_loss=0.589, valid_accuracy=0.708, train_accuracy=0.696]\n",
      "Epoch 23:  71%|███████▏  | 5/7 [00:00<00:00, 17.05it/s, loss=0.583, train_loss=0.558, valid_loss=0.589, valid_accuracy=0.708, train_accuracy=0.698]\n",
      "Epoch 23: 100%|██████████| 7/7 [00:00<00:00, 19.34it/s, loss=0.583, train_loss=0.558, valid_loss=0.578, valid_accuracy=0.709, train_accuracy=0.698]\n",
      "Epoch 24:  71%|███████▏  | 5/7 [00:00<00:00, 15.38it/s, loss=0.575, train_loss=0.569, valid_loss=0.578, valid_accuracy=0.709, train_accuracy=0.711]\n",
      "Epoch 24: 100%|██████████| 7/7 [00:00<00:00, 17.55it/s, loss=0.575, train_loss=0.569, valid_loss=0.57, valid_accuracy=0.719, train_accuracy=0.711] \n",
      "Epoch 25:  71%|███████▏  | 5/7 [00:00<00:00, 17.23it/s, loss=0.566, train_loss=0.533, valid_loss=0.57, valid_accuracy=0.719, train_accuracy=0.715]\n",
      "Epoch 25: 100%|██████████| 7/7 [00:00<00:00, 19.39it/s, loss=0.566, train_loss=0.533, valid_loss=0.558, valid_accuracy=0.726, train_accuracy=0.715]\n",
      "Epoch 26:  71%|███████▏  | 5/7 [00:00<00:00, 16.88it/s, loss=0.560, train_loss=0.566, valid_loss=0.558, valid_accuracy=0.726, train_accuracy=0.73]\n",
      "Epoch 4: 100%|██████████| 7/7 [7:30:40<00:00, 9013.52s/it, loss=0.822, train_loss=0.795, valid_loss=0.761, valid_accuracy=0.529, train_accuracy=0.524]\n",
      "Finding best initial lr: 100%|██████████| 100/100 [01:20<00:00,  1.23it/s]\n",
      "Epoch 4: 100%|██████████| 7/7 [01:12<00:00, 24.29s/it, loss=0.748, train_loss=0.736, valid_loss=0.703, valid_accuracy=0.525, train_accuracy=0.489]\n",
      "Epoch 26: 100%|██████████| 7/7 [00:00<00:00, 15.09it/s, loss=0.560, train_loss=0.566, valid_loss=0.547, valid_accuracy=0.741, train_accuracy=0.73]\n",
      "Epoch 27:  29%|██▊       | 2/7 [00:00<00:00, 13.37it/s, loss=0.557, train_loss=0.548, valid_loss=0.547, valid_accuracy=0.741, train_accuracy=0.729]\n",
      "Epoch 27:  71%|███████▏  | 5/7 [00:00<00:00, 16.88it/s, loss=0.552, train_loss=0.521, valid_loss=0.547, valid_accuracy=0.741, train_accuracy=0.729]\n",
      "Epoch 27: 100%|██████████| 7/7 [00:00<00:00, 19.02it/s, loss=0.552, train_loss=0.521, valid_loss=0.536, valid_accuracy=0.752, train_accuracy=0.729]\n",
      "Epoch 28:  71%|███████▏  | 5/7 [00:00<00:00, 16.17it/s, loss=0.543, train_loss=0.52, valid_loss=0.536, valid_accuracy=0.752, train_accuracy=0.734] \n",
      "Epoch 28: 100%|██████████| 7/7 [00:00<00:00, 18.00it/s, loss=0.543, train_loss=0.52, valid_loss=0.526, valid_accuracy=0.76, train_accuracy=0.734] \n",
      "Epoch 29:  71%|███████▏  | 5/7 [00:00<00:00, 16.88it/s, loss=0.534, train_loss=0.534, valid_loss=0.526, valid_accuracy=0.76, train_accuracy=0.747]\n",
      "Epoch 29: 100%|██████████| 7/7 [00:00<00:00, 19.07it/s, loss=0.534, train_loss=0.534, valid_loss=0.516, valid_accuracy=0.771, train_accuracy=0.747]\n",
      "Epoch 30:  71%|███████▏  | 5/7 [00:00<00:00, 15.92it/s, loss=0.524, train_loss=0.52, valid_loss=0.516, valid_accuracy=0.771, train_accuracy=0.756] \n",
      "Epoch 30: 100%|██████████| 7/7 [00:00<00:00, 18.04it/s, loss=0.524, train_loss=0.52, valid_loss=0.505, valid_accuracy=0.78, train_accuracy=0.756] \n",
      "Epoch 31:  71%|███████▏  | 5/7 [00:00<00:00, 16.71it/s, loss=0.514, train_loss=0.505, valid_loss=0.505, valid_accuracy=0.78, train_accuracy=0.759]\n",
      "Epoch 31: 100%|██████████| 7/7 [00:00<00:00, 18.47it/s, loss=0.514, train_loss=0.505, valid_loss=0.495, valid_accuracy=0.793, train_accuracy=0.759]\n",
      "Epoch 32:  71%|███████▏  | 5/7 [00:00<00:00, 16.44it/s, loss=0.505, train_loss=0.51, valid_loss=0.495, valid_accuracy=0.793, train_accuracy=0.77] \n",
      "Epoch 32: 100%|██████████| 7/7 [00:00<00:00, 18.52it/s, loss=0.505, train_loss=0.51, valid_loss=0.485, valid_accuracy=0.796, train_accuracy=0.77]\n",
      "Epoch 33:  71%|███████▏  | 5/7 [00:00<00:00, 15.72it/s, loss=0.495, train_loss=0.477, valid_loss=0.485, valid_accuracy=0.796, train_accuracy=0.772]\n",
      "Epoch 33: 100%|██████████| 7/7 [00:00<00:00, 17.77it/s, loss=0.495, train_loss=0.477, valid_loss=0.475, valid_accuracy=0.797, train_accuracy=0.772]\n",
      "Epoch 34:  71%|███████▏  | 5/7 [00:00<00:00, 16.82it/s, loss=0.487, train_loss=0.482, valid_loss=0.475, valid_accuracy=0.797, train_accuracy=0.784]\n",
      "Epoch 34: 100%|██████████| 7/7 [00:00<00:00, 18.67it/s, loss=0.487, train_loss=0.482, valid_loss=0.465, valid_accuracy=0.805, train_accuracy=0.784]\n",
      "Epoch 35:  71%|███████▏  | 5/7 [00:00<00:00, 15.82it/s, loss=0.479, train_loss=0.486, valid_loss=0.465, valid_accuracy=0.805, train_accuracy=0.791]\n",
      "Epoch 35: 100%|██████████| 7/7 [00:00<00:00, 17.95it/s, loss=0.479, train_loss=0.486, valid_loss=0.456, valid_accuracy=0.806, train_accuracy=0.791]\n",
      "Epoch 36:  71%|███████▏  | 5/7 [00:00<00:00, 16.07it/s, loss=0.469, train_loss=0.468, valid_loss=0.456, valid_accuracy=0.806, train_accuracy=0.799]\n",
      "Epoch 36: 100%|██████████| 7/7 [00:00<00:00, 18.33it/s, loss=0.469, train_loss=0.468, valid_loss=0.448, valid_accuracy=0.813, train_accuracy=0.799]\n",
      "Epoch 37:  71%|███████▏  | 5/7 [00:00<00:00, 16.17it/s, loss=0.462, train_loss=0.472, valid_loss=0.448, valid_accuracy=0.813, train_accuracy=0.797]\n",
      "Epoch 37: 100%|██████████| 7/7 [00:00<00:00, 18.47it/s, loss=0.462, train_loss=0.472, valid_loss=0.441, valid_accuracy=0.823, train_accuracy=0.797]\n",
      "Epoch 38:  71%|███████▏  | 5/7 [00:00<00:00, 16.66it/s, loss=0.454, train_loss=0.434, valid_loss=0.441, valid_accuracy=0.823, train_accuracy=0.801]\n",
      "Epoch 38: 100%|██████████| 7/7 [00:00<00:00, 18.77it/s, loss=0.454, train_loss=0.434, valid_loss=0.434, valid_accuracy=0.828, train_accuracy=0.801]\n",
      "Epoch 39:  71%|███████▏  | 5/7 [00:00<00:00, 16.38it/s, loss=0.447, train_loss=0.485, valid_loss=0.434, valid_accuracy=0.828, train_accuracy=0.807]\n",
      "Epoch 39: 100%|██████████| 7/7 [00:00<00:00, 18.62it/s, loss=0.447, train_loss=0.485, valid_loss=0.428, valid_accuracy=0.829, train_accuracy=0.807]\n",
      "Epoch 40:  71%|███████▏  | 5/7 [00:00<00:00, 16.71it/s, loss=0.442, train_loss=0.435, valid_loss=0.428, valid_accuracy=0.829, train_accuracy=0.811]\n",
      "Epoch 40: 100%|██████████| 7/7 [00:00<00:00, 18.97it/s, loss=0.442, train_loss=0.435, valid_loss=0.422, valid_accuracy=0.831, train_accuracy=0.811]\n",
      "Epoch 41:  71%|███████▏  | 5/7 [00:00<00:00, 15.28it/s, loss=0.434, train_loss=0.389, valid_loss=0.422, valid_accuracy=0.831, train_accuracy=0.814]\n",
      "Epoch 41: 100%|██████████| 7/7 [00:00<00:00, 17.20it/s, loss=0.434, train_loss=0.389, valid_loss=0.417, valid_accuracy=0.838, train_accuracy=0.814]\n",
      "Epoch 42:  71%|███████▏  | 5/7 [00:00<00:00, 16.17it/s, loss=0.427, train_loss=0.399, valid_loss=0.417, valid_accuracy=0.838, train_accuracy=0.823]\n",
      "Epoch 42: 100%|██████████| 7/7 [00:00<00:00, 18.47it/s, loss=0.427, train_loss=0.399, valid_loss=0.411, valid_accuracy=0.84, train_accuracy=0.823] \n",
      "Epoch 43:  71%|███████▏  | 5/7 [00:00<00:00, 16.44it/s, loss=0.418, train_loss=0.382, valid_loss=0.411, valid_accuracy=0.84, train_accuracy=0.829]\n",
      "Epoch 43: 100%|██████████| 7/7 [00:00<00:00, 18.72it/s, loss=0.418, train_loss=0.382, valid_loss=0.406, valid_accuracy=0.845, train_accuracy=0.829]\n",
      "Epoch 44:  71%|███████▏  | 5/7 [00:00<00:00, 16.49it/s, loss=0.412, train_loss=0.414, valid_loss=0.406, valid_accuracy=0.845, train_accuracy=0.832]\n",
      "Epoch 44: 100%|██████████| 7/7 [00:00<00:00, 18.82it/s, loss=0.412, train_loss=0.414, valid_loss=0.402, valid_accuracy=0.848, train_accuracy=0.832]\n",
      "Epoch 45:  71%|███████▏  | 5/7 [00:00<00:00, 15.15it/s, loss=0.410, train_loss=0.439, valid_loss=0.402, valid_accuracy=0.848, train_accuracy=0.837]\n",
      "Epoch 45: 100%|██████████| 7/7 [00:00<00:00, 17.12it/s, loss=0.410, train_loss=0.439, valid_loss=0.399, valid_accuracy=0.846, train_accuracy=0.837]\n",
      "Epoch 46:  71%|███████▏  | 5/7 [00:00<00:00, 16.71it/s, loss=0.407, train_loss=0.432, valid_loss=0.399, valid_accuracy=0.846, train_accuracy=0.832]\n",
      "Epoch 46: 100%|██████████| 7/7 [00:00<00:00, 19.02it/s, loss=0.407, train_loss=0.432, valid_loss=0.396, valid_accuracy=0.851, train_accuracy=0.832]\n",
      "Epoch 47:  71%|███████▏  | 5/7 [00:00<00:00, 16.77it/s, loss=0.402, train_loss=0.377, valid_loss=0.396, valid_accuracy=0.851, train_accuracy=0.836]\n",
      "Epoch 47: 100%|██████████| 7/7 [00:00<00:00, 18.72it/s, loss=0.402, train_loss=0.377, valid_loss=0.392, valid_accuracy=0.857, train_accuracy=0.836]\n",
      "Epoch 48:  71%|███████▏  | 5/7 [00:00<00:00, 16.49it/s, loss=0.397, train_loss=0.375, valid_loss=0.392, valid_accuracy=0.857, train_accuracy=0.843]\n",
      "Epoch 48: 100%|██████████| 7/7 [00:00<00:00, 18.72it/s, loss=0.397, train_loss=0.375, valid_loss=0.389, valid_accuracy=0.861, train_accuracy=0.843]\n",
      "Epoch 49:  71%|███████▏  | 5/7 [00:00<00:00, 16.38it/s, loss=0.393, train_loss=0.414, valid_loss=0.389, valid_accuracy=0.861, train_accuracy=0.846]\n",
      "Epoch 49: 100%|██████████| 7/7 [00:00<00:00, 18.67it/s, loss=0.393, train_loss=0.414, valid_loss=0.387, valid_accuracy=0.861, train_accuracy=0.846]\n",
      "Epoch 50:  71%|███████▏  | 5/7 [00:00<00:00, 16.55it/s, loss=0.389, train_loss=0.386, valid_loss=0.387, valid_accuracy=0.861, train_accuracy=0.842]\n",
      "Epoch 50: 100%|██████████| 7/7 [00:00<00:00, 18.72it/s, loss=0.389, train_loss=0.386, valid_loss=0.384, valid_accuracy=0.868, train_accuracy=0.842]\n",
      "Epoch 51:  71%|███████▏  | 5/7 [00:00<00:00, 15.67it/s, loss=0.387, train_loss=0.377, valid_loss=0.384, valid_accuracy=0.868, train_accuracy=0.844]\n",
      "Epoch 51: 100%|██████████| 7/7 [00:00<00:00, 17.95it/s, loss=0.387, train_loss=0.377, valid_loss=0.381, valid_accuracy=0.868, train_accuracy=0.844]\n",
      "Epoch 52:  71%|███████▏  | 5/7 [00:00<00:00, 16.28it/s, loss=0.383, train_loss=0.347, valid_loss=0.381, valid_accuracy=0.868, train_accuracy=0.849]\n",
      "Epoch 52: 100%|██████████| 7/7 [00:00<00:00, 18.09it/s, loss=0.383, train_loss=0.347, valid_loss=0.38, valid_accuracy=0.866, train_accuracy=0.849] \n",
      "Epoch 53:  71%|███████▏  | 5/7 [00:00<00:00, 16.44it/s, loss=0.379, train_loss=0.404, valid_loss=0.38, valid_accuracy=0.866, train_accuracy=0.849]\n",
      "Epoch 53: 100%|██████████| 7/7 [00:00<00:00, 18.04it/s, loss=0.379, train_loss=0.404, valid_loss=0.378, valid_accuracy=0.869, train_accuracy=0.849]\n",
      "Epoch 54:  71%|███████▏  | 5/7 [00:00<00:00, 16.22it/s, loss=0.376, train_loss=0.358, valid_loss=0.378, valid_accuracy=0.869, train_accuracy=0.846]\n",
      "Epoch 54: 100%|██████████| 7/7 [00:00<00:00, 18.33it/s, loss=0.376, train_loss=0.358, valid_loss=0.375, valid_accuracy=0.871, train_accuracy=0.846]\n",
      "Epoch 55:  71%|███████▏  | 5/7 [00:00<00:00, 17.05it/s, loss=0.373, train_loss=0.369, valid_loss=0.375, valid_accuracy=0.871, train_accuracy=0.851]\n",
      "Epoch 55: 100%|██████████| 7/7 [00:00<00:00, 18.97it/s, loss=0.373, train_loss=0.369, valid_loss=0.373, valid_accuracy=0.87, train_accuracy=0.851] \n",
      "Epoch 56:  71%|███████▏  | 5/7 [00:00<00:00, 16.60it/s, loss=0.371, train_loss=0.359, valid_loss=0.373, valid_accuracy=0.87, train_accuracy=0.855]\n",
      "Epoch 56: 100%|██████████| 7/7 [00:00<00:00, 18.87it/s, loss=0.371, train_loss=0.359, valid_loss=0.371, valid_accuracy=0.87, train_accuracy=0.855]\n",
      "Epoch 57:  71%|███████▏  | 5/7 [00:00<00:00, 16.71it/s, loss=0.369, train_loss=0.375, valid_loss=0.371, valid_accuracy=0.87, train_accuracy=0.86]\n",
      "Epoch 57: 100%|██████████| 7/7 [00:00<00:00, 18.92it/s, loss=0.369, train_loss=0.375, valid_loss=0.369, valid_accuracy=0.873, train_accuracy=0.86]\n",
      "Epoch 58:  71%|███████▏  | 5/7 [00:00<00:00, 16.66it/s, loss=0.366, train_loss=0.348, valid_loss=0.369, valid_accuracy=0.873, train_accuracy=0.854]\n",
      "Epoch 58: 100%|██████████| 7/7 [00:00<00:00, 19.02it/s, loss=0.366, train_loss=0.348, valid_loss=0.366, valid_accuracy=0.873, train_accuracy=0.854]\n",
      "Epoch 59:  71%|███████▏  | 5/7 [00:00<00:00, 16.55it/s, loss=0.366, train_loss=0.414, valid_loss=0.366, valid_accuracy=0.873, train_accuracy=0.856]\n",
      "Epoch 59: 100%|██████████| 7/7 [00:00<00:00, 18.77it/s, loss=0.366, train_loss=0.414, valid_loss=0.364, valid_accuracy=0.874, train_accuracy=0.856]\n",
      "Epoch 60:  71%|███████▏  | 5/7 [00:00<00:00, 14.49it/s, loss=0.364, train_loss=0.336, valid_loss=0.364, valid_accuracy=0.874, train_accuracy=0.851]\n",
      "Epoch 60: 100%|██████████| 7/7 [00:00<00:00, 16.36it/s, loss=0.364, train_loss=0.336, valid_loss=0.363, valid_accuracy=0.873, train_accuracy=0.851]\n",
      "Epoch 61:  71%|███████▏  | 5/7 [00:00<00:00, 14.70it/s, loss=0.361, train_loss=0.359, valid_loss=0.363, valid_accuracy=0.873, train_accuracy=0.857]\n",
      "Epoch 61: 100%|██████████| 7/7 [00:00<00:00, 16.91it/s, loss=0.361, train_loss=0.359, valid_loss=0.361, valid_accuracy=0.877, train_accuracy=0.857]\n",
      "Epoch 62:  71%|███████▏  | 5/7 [00:00<00:00, 16.55it/s, loss=0.358, train_loss=0.379, valid_loss=0.361, valid_accuracy=0.877, train_accuracy=0.856]\n",
      "Epoch 62: 100%|██████████| 7/7 [00:00<00:00, 18.92it/s, loss=0.358, train_loss=0.379, valid_loss=0.359, valid_accuracy=0.877, train_accuracy=0.856]\n",
      "Epoch 63:  71%|███████▏  | 5/7 [00:00<00:00, 16.44it/s, loss=0.354, train_loss=0.348, valid_loss=0.359, valid_accuracy=0.877, train_accuracy=0.855]\n",
      "Epoch 63: 100%|██████████| 7/7 [00:00<00:00, 18.67it/s, loss=0.354, train_loss=0.348, valid_loss=0.356, valid_accuracy=0.876, train_accuracy=0.855]\n",
      "Epoch 64:  71%|███████▏  | 5/7 [00:00<00:00, 16.77it/s, loss=0.353, train_loss=0.348, valid_loss=0.356, valid_accuracy=0.876, train_accuracy=0.859]\n",
      "Epoch 64: 100%|██████████| 7/7 [00:00<00:00, 18.62it/s, loss=0.353, train_loss=0.348, valid_loss=0.354, valid_accuracy=0.876, train_accuracy=0.859]\n",
      "Epoch 65:  71%|███████▏  | 5/7 [00:00<00:00, 16.54it/s, loss=0.353, train_loss=0.408, valid_loss=0.354, valid_accuracy=0.876, train_accuracy=0.858]\n",
      "Epoch 65: 100%|██████████| 7/7 [00:00<00:00, 18.82it/s, loss=0.353, train_loss=0.408, valid_loss=0.353, valid_accuracy=0.876, train_accuracy=0.858]\n",
      "Epoch 66:  71%|███████▏  | 5/7 [00:00<00:00, 16.17it/s, loss=0.352, train_loss=0.358, valid_loss=0.353, valid_accuracy=0.876, train_accuracy=0.856]\n",
      "Epoch 66: 100%|██████████| 7/7 [00:00<00:00, 18.28it/s, loss=0.352, train_loss=0.358, valid_loss=0.352, valid_accuracy=0.879, train_accuracy=0.856]\n",
      "Epoch 67:  71%|███████▏  | 5/7 [00:00<00:00, 16.82it/s, loss=0.350, train_loss=0.333, valid_loss=0.352, valid_accuracy=0.879, train_accuracy=0.86]\n",
      "Epoch 67: 100%|██████████| 7/7 [00:00<00:00, 19.12it/s, loss=0.350, train_loss=0.333, valid_loss=0.35, valid_accuracy=0.878, train_accuracy=0.86] \n",
      "Epoch 68:  71%|███████▏  | 5/7 [00:00<00:00, 16.99it/s, loss=0.347, train_loss=0.325, valid_loss=0.35, valid_accuracy=0.878, train_accuracy=0.861]\n",
      "Epoch 68: 100%|██████████| 7/7 [00:00<00:00, 19.23it/s, loss=0.347, train_loss=0.325, valid_loss=0.349, valid_accuracy=0.878, train_accuracy=0.861]\n",
      "Epoch 69:  71%|███████▏  | 5/7 [00:00<00:00, 16.66it/s, loss=0.346, train_loss=0.398, valid_loss=0.349, valid_accuracy=0.878, train_accuracy=0.864]\n",
      "Epoch 69: 100%|██████████| 7/7 [00:00<00:00, 18.87it/s, loss=0.346, train_loss=0.398, valid_loss=0.348, valid_accuracy=0.878, train_accuracy=0.864]\n",
      "Epoch 70:  71%|███████▏  | 5/7 [00:00<00:00, 16.82it/s, loss=0.343, train_loss=0.316, valid_loss=0.348, valid_accuracy=0.878, train_accuracy=0.864]\n",
      "Epoch 70: 100%|██████████| 7/7 [00:00<00:00, 19.18it/s, loss=0.343, train_loss=0.316, valid_loss=0.347, valid_accuracy=0.878, train_accuracy=0.864]\n",
      "Epoch 71:  71%|███████▏  | 5/7 [00:00<00:00, 16.60it/s, loss=0.343, train_loss=0.376, valid_loss=0.347, valid_accuracy=0.878, train_accuracy=0.866]\n",
      "Epoch 71: 100%|██████████| 7/7 [00:00<00:00, 18.87it/s, loss=0.343, train_loss=0.376, valid_loss=0.346, valid_accuracy=0.879, train_accuracy=0.866]\n",
      "Epoch 72:  71%|███████▏  | 5/7 [00:00<00:00, 16.88it/s, loss=0.342, train_loss=0.328, valid_loss=0.346, valid_accuracy=0.879, train_accuracy=0.863]\n",
      "Epoch 72: 100%|██████████| 7/7 [00:00<00:00, 18.87it/s, loss=0.342, train_loss=0.328, valid_loss=0.346, valid_accuracy=0.88, train_accuracy=0.863] \n",
      "Epoch 73:  71%|███████▏  | 5/7 [00:00<00:00, 17.11it/s, loss=0.339, train_loss=0.378, valid_loss=0.346, valid_accuracy=0.88, train_accuracy=0.863]\n",
      "Epoch 73: 100%|██████████| 7/7 [00:00<00:00, 19.44it/s, loss=0.339, train_loss=0.378, valid_loss=0.345, valid_accuracy=0.878, train_accuracy=0.863]\n",
      "Epoch 74:  71%|███████▏  | 5/7 [00:00<00:00, 15.43it/s, loss=0.337, train_loss=0.321, valid_loss=0.345, valid_accuracy=0.878, train_accuracy=0.866]\n",
      "Epoch 74: 100%|██████████| 7/7 [00:00<00:00, 17.29it/s, loss=0.337, train_loss=0.321, valid_loss=0.343, valid_accuracy=0.879, train_accuracy=0.866]\n",
      "Epoch 75:  71%|███████▏  | 5/7 [00:00<00:00, 16.82it/s, loss=0.336, train_loss=0.343, valid_loss=0.343, valid_accuracy=0.879, train_accuracy=0.869]\n",
      "Epoch 75: 100%|██████████| 7/7 [00:00<00:00, 18.92it/s, loss=0.336, train_loss=0.343, valid_loss=0.343, valid_accuracy=0.878, train_accuracy=0.869]\n",
      "Epoch 76:  71%|███████▏  | 5/7 [00:00<00:00, 16.33it/s, loss=0.335, train_loss=0.319, valid_loss=0.343, valid_accuracy=0.878, train_accuracy=0.867]\n",
      "Epoch 76: 100%|██████████| 7/7 [00:00<00:00, 17.81it/s, loss=0.335, train_loss=0.319, valid_loss=0.342, valid_accuracy=0.877, train_accuracy=0.867]\n",
      "Epoch 77:  71%|███████▏  | 5/7 [00:00<00:00, 16.49it/s, loss=0.334, train_loss=0.376, valid_loss=0.342, valid_accuracy=0.877, train_accuracy=0.864]\n",
      "Epoch 77: 100%|██████████| 7/7 [00:00<00:00, 18.72it/s, loss=0.334, train_loss=0.376, valid_loss=0.342, valid_accuracy=0.877, train_accuracy=0.864]\n",
      "Epoch 78:  71%|███████▏  | 5/7 [00:00<00:00, 16.38it/s, loss=0.334, train_loss=0.339, valid_loss=0.342, valid_accuracy=0.877, train_accuracy=0.866]\n",
      "Epoch 78: 100%|██████████| 7/7 [00:00<00:00, 18.52it/s, loss=0.334, train_loss=0.339, valid_loss=0.34, valid_accuracy=0.877, train_accuracy=0.866] \n",
      "Epoch 79:  71%|███████▏  | 5/7 [00:00<00:00, 17.17it/s, loss=0.335, train_loss=0.385, valid_loss=0.34, valid_accuracy=0.877, train_accuracy=0.865]\n",
      "Epoch 79: 100%|██████████| 7/7 [00:00<00:00, 19.39it/s, loss=0.335, train_loss=0.385, valid_loss=0.339, valid_accuracy=0.878, train_accuracy=0.865]\n",
      "Epoch 80:  71%|███████▏  | 5/7 [00:00<00:00, 14.53it/s, loss=0.335, train_loss=0.361, valid_loss=0.339, valid_accuracy=0.878, train_accuracy=0.861]\n",
      "Epoch 80: 100%|██████████| 7/7 [00:00<00:00, 16.17it/s, loss=0.335, train_loss=0.361, valid_loss=0.338, valid_accuracy=0.877, train_accuracy=0.861]\n",
      "Epoch 81:  71%|███████▏  | 5/7 [00:00<00:00, 13.85it/s, loss=0.332, train_loss=0.3, valid_loss=0.338, valid_accuracy=0.877, train_accuracy=0.863]  \n",
      "Epoch 81: 100%|██████████| 7/7 [00:00<00:00, 16.10it/s, loss=0.332, train_loss=0.3, valid_loss=0.337, valid_accuracy=0.877, train_accuracy=0.863]\n",
      "Epoch 82:  71%|███████▏  | 5/7 [00:00<00:00, 16.44it/s, loss=0.332, train_loss=0.338, valid_loss=0.337, valid_accuracy=0.877, train_accuracy=0.863]\n",
      "Epoch 82: 100%|██████████| 7/7 [00:00<00:00, 19.66it/s, loss=0.332, train_loss=0.338, valid_loss=0.337, valid_accuracy=0.877, train_accuracy=0.863]\n",
      "Epoch 83:  71%|███████▏  | 5/7 [00:00<00:00, 16.88it/s, loss=0.330, train_loss=0.319, valid_loss=0.337, valid_accuracy=0.877, train_accuracy=0.86]\n",
      "Epoch 83: 100%|██████████| 7/7 [00:00<00:00, 19.07it/s, loss=0.330, train_loss=0.319, valid_loss=0.336, valid_accuracy=0.878, train_accuracy=0.86]\n",
      "Epoch 84:  71%|███████▏  | 5/7 [00:00<00:00, 17.01it/s, loss=0.328, train_loss=0.328, valid_loss=0.336, valid_accuracy=0.878, train_accuracy=0.865]\n",
      "Epoch 84: 100%|██████████| 7/7 [00:00<00:00, 19.24it/s, loss=0.328, train_loss=0.328, valid_loss=0.336, valid_accuracy=0.877, train_accuracy=0.865]\n",
      "Epoch 84: 100%|██████████| 7/7 [00:00<00:00, 18.98it/s, loss=0.328, train_loss=0.328, valid_loss=0.336, valid_accuracy=0.877, train_accuracy=0.865]\n"
     ]
    }
   ],
   "source": [
    "data_config = DataConfig(\n",
    "    target=['target'],\n",
    "    continuous_cols=num_col_names,\n",
    "    categorical_cols=cat_col_names,\n",
    "    continuous_feature_transform=None,#\"yeo-johnson\",\n",
    "    normalize_continuous_features=True\n",
    ")\n",
    "trainer_config = TrainerConfig(\n",
    "    auto_lr_find=False,\n",
    "    batch_size=1024,\n",
    "    max_epochs=1000,\n",
    "    gpus=1,\n",
    "    # track_grad_norm=2,\n",
    "    gradient_clip_val=10,\n",
    ")\n",
    "# experiment_config = ExperimentConfig(project_name=\"Tabular_test\", log_logits=True)\n",
    "optimizer_config = OptimizerConfig()\n",
    "\n",
    "model_config = TabNetModelConfig(\n",
    "    task=\"classification\",\n",
    "    n_d=5,\n",
    "    n_a=5,\n",
    "    n_steps=2,\n",
    "    n_independent=2,\n",
    "    n_shared=2,\n",
    "    learning_rate=1e-3\n",
    ")\n",
    "tabular_model = TabularModel(\n",
    "    data_config=data_config,\n",
    "    model_config=model_config,\n",
    "    optimizer_config=optimizer_config,\n",
    "    trainer_config=trainer_config,\n",
    ")"
   ]
  },
  {
   "cell_type": "code",
   "execution_count": 26,
   "metadata": {},
   "outputs": [
    {
     "output_type": "stream",
     "name": "stdout",
     "text": [
      "Testing: 100%|██████████| 3/3 [00:00<00:00, 27.85it/s]--------------------------------------------------------------------------------\n",
      "DATALOADER:0 TEST RESULTS\n",
      "{'test_accuracy': tensor(0.8600, device='cuda:0'),\n",
      " 'train_accuracy': tensor(0.8683, device='cuda:0'),\n",
      " 'train_loss': tensor(0.3278, device='cuda:0'),\n",
      " 'valid_accuracy': tensor(0.8773, device='cuda:0'),\n",
      " 'valid_loss': tensor(0.3365, device='cuda:0')}\n",
      "--------------------------------------------------------------------------------\n",
      "Testing: 100%|██████████| 3/3 [00:00<00:00, 23.87it/s]\n",
      "[{'train_loss': 0.3278144598007202, 'valid_loss': 0.3364557921886444, 'valid_accuracy': 0.8773333430290222, 'train_accuracy': 0.8682800531387329, 'test_accuracy': 0.8600000143051147}]\n"
     ]
    }
   ],
   "source": [
    "tabular_model.fit(train=train, test=test)"
   ]
  },
  {
   "cell_type": "code",
   "execution_count": 27,
   "metadata": {},
   "outputs": [],
   "source": [
    "result = tabular_model.evaluate(test)\n",
    "print(result)"
   ]
  }
 ]
}